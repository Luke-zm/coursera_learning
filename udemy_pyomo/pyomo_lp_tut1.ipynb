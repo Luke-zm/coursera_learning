{
  "nbformat": 4,
  "nbformat_minor": 0,
  "metadata": {
    "colab": {
      "provenance": [],
      "authorship_tag": "ABX9TyNWPxwV9l+/MCYuy01mBWwJ",
      "include_colab_link": true
    },
    "kernelspec": {
      "name": "python3",
      "display_name": "Python 3"
    },
    "language_info": {
      "name": "python"
    }
  },
  "cells": [
    {
      "cell_type": "markdown",
      "metadata": {
        "id": "view-in-github",
        "colab_type": "text"
      },
      "source": [
        "<a href=\"https://colab.research.google.com/github/Luke-zm/coursera_learning/blob/main/udemy_pyomo/pyomo_lp_tut1.ipynb\" target=\"_parent\"><img src=\"https://colab.research.google.com/assets/colab-badge.svg\" alt=\"Open In Colab\"/></a>"
      ]
    },
    {
      "cell_type": "code",
      "execution_count": null,
      "metadata": {
        "colab": {
          "base_uri": "https://localhost:8080/"
        },
        "id": "BUSUot7Tl9uT",
        "outputId": "acfef3b5-2bae-4796-f961-508b441f0e9d"
      },
      "outputs": [
        {
          "output_type": "stream",
          "name": "stdout",
          "text": [
            "Collecting pyomo\n",
            "  Downloading Pyomo-6.6.1-cp310-cp310-manylinux_2_17_x86_64.manylinux2014_x86_64.whl (11.9 MB)\n",
            "\u001b[2K     \u001b[90m━━━━━━━━━━━━━━━━━━━━━━━━━━━━━━━━━━━━━━━━\u001b[0m \u001b[32m11.9/11.9 MB\u001b[0m \u001b[31m33.8 MB/s\u001b[0m eta \u001b[36m0:00:00\u001b[0m\n",
            "\u001b[?25hCollecting ply (from pyomo)\n",
            "  Downloading ply-3.11-py2.py3-none-any.whl (49 kB)\n",
            "\u001b[2K     \u001b[90m━━━━━━━━━━━━━━━━━━━━━━━━━━━━━━━━━━━━━━━━\u001b[0m \u001b[32m49.6/49.6 kB\u001b[0m \u001b[31m5.4 MB/s\u001b[0m eta \u001b[36m0:00:00\u001b[0m\n",
            "\u001b[?25hInstalling collected packages: ply, pyomo\n",
            "Successfully installed ply-3.11 pyomo-6.6.1\n",
            "Selecting previously unselected package libsuitesparseconfig5:amd64.\n",
            "(Reading database ... 120831 files and directories currently installed.)\n",
            "Preparing to unpack .../libsuitesparseconfig5_1%3a5.10.1+dfsg-4build1_amd64.deb ...\n",
            "Unpacking libsuitesparseconfig5:amd64 (1:5.10.1+dfsg-4build1) ...\n",
            "Selecting previously unselected package libamd2:amd64.\n",
            "Preparing to unpack .../libamd2_1%3a5.10.1+dfsg-4build1_amd64.deb ...\n",
            "Unpacking libamd2:amd64 (1:5.10.1+dfsg-4build1) ...\n",
            "Selecting previously unselected package libcolamd2:amd64.\n",
            "Preparing to unpack .../libcolamd2_1%3a5.10.1+dfsg-4build1_amd64.deb ...\n",
            "Unpacking libcolamd2:amd64 (1:5.10.1+dfsg-4build1) ...\n",
            "Selecting previously unselected package libglpk40:amd64.\n",
            "Preparing to unpack .../libglpk40_5.0-1_amd64.deb ...\n",
            "Unpacking libglpk40:amd64 (5.0-1) ...\n",
            "Selecting previously unselected package glpk-utils.\n",
            "Preparing to unpack .../glpk-utils_5.0-1_amd64.deb ...\n",
            "Unpacking glpk-utils (5.0-1) ...\n",
            "Setting up libsuitesparseconfig5:amd64 (1:5.10.1+dfsg-4build1) ...\n",
            "Setting up libamd2:amd64 (1:5.10.1+dfsg-4build1) ...\n",
            "Setting up libcolamd2:amd64 (1:5.10.1+dfsg-4build1) ...\n",
            "Setting up libglpk40:amd64 (5.0-1) ...\n",
            "Setting up glpk-utils (5.0-1) ...\n",
            "Processing triggers for man-db (2.10.2-1) ...\n",
            "Processing triggers for libc-bin (2.35-0ubuntu3.1) ...\n",
            "/sbin/ldconfig.real: /usr/local/lib/libtbbbind_2_5.so.3 is not a symbolic link\n",
            "\n",
            "/sbin/ldconfig.real: /usr/local/lib/libtbbbind.so.3 is not a symbolic link\n",
            "\n",
            "/sbin/ldconfig.real: /usr/local/lib/libtbbmalloc.so.2 is not a symbolic link\n",
            "\n",
            "/sbin/ldconfig.real: /usr/local/lib/libtbbmalloc_proxy.so.2 is not a symbolic link\n",
            "\n",
            "/sbin/ldconfig.real: /usr/local/lib/libtbbbind_2_0.so.3 is not a symbolic link\n",
            "\n",
            "/sbin/ldconfig.real: /usr/local/lib/libtbb.so.12 is not a symbolic link\n",
            "\n"
          ]
        }
      ],
      "source": [
        "# Tutorial notes on udemy course.\n",
        "!pip install pyomo\n",
        "!apt-get install -y -qq glpk-utils"
      ]
    },
    {
      "cell_type": "code",
      "source": [
        "import pyomo.environ as pyo\n",
        "from pyomo.opt import SolverFactory"
      ],
      "metadata": {
        "id": "1I4nexifmKh2"
      },
      "execution_count": null,
      "outputs": []
    },
    {
      "cell_type": "code",
      "source": [
        "# Defining the model\n",
        "model = pyo.ConcreteModel()\n",
        "\n",
        "# Defining the decison variables\n",
        "model.x1 = pyo.Var(within = pyo.NonNegativeReals)\n",
        "model.x2 = pyo.Var(within = pyo.NonNegativeReals)\n",
        "# Note: If to call the decision variables, always need to call model.deci_var\n",
        "# else, can assign the decision variable names like so:\n",
        "\n",
        "x1 = model.x1\n",
        "x2 = model.x2\n",
        "\n",
        "\n",
        "# Define the objective function\n",
        "model.Obj = pyo.Objective(expr = 4*x1 + 3*x2, sense = pyo.maximize)\n",
        "\n",
        "# Define the constraints\n",
        "c1 = x1+x2<=40\n",
        "model.Const1 = pyo.Constraint(expr = c1)\n",
        "c2 = 2*x1+x2<= 60\n",
        "model.Const2 = pyo.Constraint(expr = c2)\n",
        "# Note: All constraints must be formulated using '<=', '>=', or '=='.\n",
        "# c3 = x1>=0\n",
        "# c4 = x2>=0\n",
        "\n",
        "# model.Const3 = pyo.Constraint(expr = c3)\n",
        "# model.Const4 = pyo.Constraint(expr = c4)\n",
        "\n",
        "# Create solver to solve the problem, by calling glpk solver\n",
        "optm = SolverFactory('glpk')\n",
        "\n",
        "# Result, call SolverFactory to solve the model\n",
        "res = optm.solve(model)\n",
        "\n",
        "# Print the result\n",
        "print(res)\n",
        "print('obj func = ', model.Obj())\n",
        "print('x1 = ', x1())\n",
        "print('x2 = ', x2)\n",
        "# Note: printing x1 will not display the value of decision variable\n",
        "# This probably because how x1 and x2 are defined\n",
        "# If I use x1(), then it work, because I am calling model.x1()\n",
        "print('x1 = ', model.x1())\n",
        "print('x2 = ', model.x2())"
      ],
      "metadata": {
        "colab": {
          "base_uri": "https://localhost:8080/"
        },
        "id": "oNi6ZQSCpqi7",
        "outputId": "f5884ce9-c82c-4b7e-93dc-0c82af190f92"
      },
      "execution_count": null,
      "outputs": [
        {
          "output_type": "stream",
          "name": "stdout",
          "text": [
            "\n",
            "Problem: \n",
            "- Name: unknown\n",
            "  Lower bound: 140.0\n",
            "  Upper bound: 140.0\n",
            "  Number of objectives: 1\n",
            "  Number of constraints: 2\n",
            "  Number of variables: 2\n",
            "  Number of nonzeros: 4\n",
            "  Sense: maximize\n",
            "Solver: \n",
            "- Status: ok\n",
            "  Termination condition: optimal\n",
            "  Statistics: \n",
            "    Branch and bound: \n",
            "      Number of bounded subproblems: 0\n",
            "      Number of created subproblems: 0\n",
            "  Error rc: 0\n",
            "  Time: 0.005654096603393555\n",
            "Solution: \n",
            "- number of solutions: 0\n",
            "  number of solutions displayed: 0\n",
            "\n",
            "obj func =  140.0\n",
            "x1 =  20.0\n",
            "x2 =  x2\n",
            "x1 =  20.0\n",
            "x2 =  20.0\n"
          ]
        }
      ]
    },
    {
      "cell_type": "code",
      "source": [
        "# Define model for example 2\n",
        "model2 = pyo.ConcreteModel()\n",
        "\n",
        "# Define decision variables for example 2\n",
        "model2.num_desk = pyo.Var(within = pyo.NonNegativeIntegers)\n",
        "model2.num_chair = pyo.Var(within = pyo.NonNegativeIntegers)\n",
        "model2.num_table = pyo.Var(within = pyo.NonNegativeIntegers)\n",
        "num_desk = model2.num_desk\n",
        "num_chair = model2.num_chair\n",
        "num_table = model2.num_table"
      ],
      "metadata": {
        "id": "zDsNn8MIv-Kp"
      },
      "execution_count": null,
      "outputs": []
    },
    {
      "cell_type": "code",
      "source": [
        "# Define objective function as math expression\n",
        "dekota_max_profit = num_desk*60 + num_chair*20 + num_table*30\n",
        "# Define objective function for example 2\n",
        "model2.max_profit = pyo.Objective(expr = dekota_max_profit, sense=pyo.maximize)"
      ],
      "metadata": {
        "id": "qd1F8pRPxg-I"
      },
      "execution_count": null,
      "outputs": []
    },
    {
      "cell_type": "code",
      "source": [
        "from IPython.utils.sysinfo import num_cpus\n",
        "# Define constraints for example 2\n",
        "# Constraints on lumber used\n",
        "lumber_con = num_desk*8 + num_table*6 + num_chair*1 <= 48\n",
        "# Constraint on Finishing hours\n",
        "fin_hr_con = num_desk*4 + num_table*2 + num_chair*1.5 <=20\n",
        "# Constraint on Carpentry hours\n",
        "cap_hr_con = num_desk*2 + num_table*1.5 + num_chair*0.5 <=8\n",
        "# Constraint on num_table\n",
        "num_tab_con = num_table <= 5\n",
        "# Register the constraints to model\n",
        "model2.lumber_con = pyo.Constraint(expr = lumber_con)\n",
        "model2.fin_hr_con = pyo.Constraint(expr = fin_hr_con)\n",
        "model2.cap_hr_con = pyo.Constraint(expr = cap_hr_con)\n",
        "model2.num_tab_con = pyo.Constraint(expr = num_tab_con)"
      ],
      "metadata": {
        "id": "Twk5zvCqxiMw"
      },
      "execution_count": null,
      "outputs": []
    },
    {
      "cell_type": "code",
      "source": [],
      "metadata": {
        "id": "i53pRQbh0NjQ"
      },
      "execution_count": null,
      "outputs": []
    },
    {
      "cell_type": "code",
      "source": [
        "# Create solver to solve the problem, by calling glpk solver\n",
        "optm2 = SolverFactory('glpk')\n",
        "\n",
        "# Result, call SolverFactory to solve the model\n",
        "res2 = optm2.solve(model2)"
      ],
      "metadata": {
        "id": "3MemvSu_xikg"
      },
      "execution_count": null,
      "outputs": []
    },
    {
      "cell_type": "code",
      "source": [
        "# Print results\n",
        "print(res2)\n",
        "print('Objective function = ', model2.max_profit())\n",
        "print('num_desk: ', model2.num_desk())\n",
        "print('num_table: ', model2.num_table())\n",
        "print('num_chair: ', model2.num_chair())"
      ],
      "metadata": {
        "colab": {
          "base_uri": "https://localhost:8080/"
        },
        "id": "PybO2zNH0Elw",
        "outputId": "ef16b898-b5ef-4d6d-e4a5-adca694be68c"
      },
      "execution_count": null,
      "outputs": [
        {
          "output_type": "stream",
          "name": "stdout",
          "text": [
            "\n",
            "Problem: \n",
            "- Name: unknown\n",
            "  Lower bound: 280.0\n",
            "  Upper bound: 280.0\n",
            "  Number of objectives: 1\n",
            "  Number of constraints: 4\n",
            "  Number of variables: 3\n",
            "  Number of nonzeros: 10\n",
            "  Sense: maximize\n",
            "Solver: \n",
            "- Status: ok\n",
            "  Termination condition: optimal\n",
            "  Statistics: \n",
            "    Branch and bound: \n",
            "      Number of bounded subproblems: 1\n",
            "      Number of created subproblems: 1\n",
            "  Error rc: 0\n",
            "  Time: 0.003855466842651367\n",
            "Solution: \n",
            "- number of solutions: 0\n",
            "  number of solutions displayed: 0\n",
            "\n",
            "Objective function =  280.0\n",
            "num_desk:  2.0\n",
            "num_table:  0.0\n",
            "num_chair:  8.0\n"
          ]
        }
      ]
    },
    {
      "cell_type": "code",
      "source": [],
      "metadata": {
        "id": "VlDfW6t90IPA"
      },
      "execution_count": null,
      "outputs": []
    }
  ]
}
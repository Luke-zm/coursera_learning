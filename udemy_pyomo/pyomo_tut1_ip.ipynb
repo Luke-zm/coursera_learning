{
  "nbformat": 4,
  "nbformat_minor": 0,
  "metadata": {
    "colab": {
      "provenance": [],
      "authorship_tag": "ABX9TyOnIVgMpRUH/EqkS6otv2GO",
      "include_colab_link": true
    },
    "kernelspec": {
      "name": "python3",
      "display_name": "Python 3"
    },
    "language_info": {
      "name": "python"
    }
  },
  "cells": [
    {
      "cell_type": "markdown",
      "metadata": {
        "id": "view-in-github",
        "colab_type": "text"
      },
      "source": [
        "<a href=\"https://colab.research.google.com/github/Luke-zm/coursera_learning/blob/main/udemy_pyomo/pyomo_tut1_ip.ipynb\" target=\"_parent\"><img src=\"https://colab.research.google.com/assets/colab-badge.svg\" alt=\"Open In Colab\"/></a>"
      ]
    },
    {
      "cell_type": "markdown",
      "source": [
        "# Integer Programming\n",
        "\n",
        "Integer programming is very similar to linear programming.  \n",
        "The objective, and constraints have to be linear.  \n",
        "The variables must be integer, instead of any real number in linear programming.  \n",
        "$$  \n",
        "max~ z = f(x)  \n",
        "\\\\s.t  \n",
        "\\\\g_1(x) \\leq 0  \n",
        "\\\\g_2(x) = 0  \n",
        "\\\\ x \\in Z^n  \n",
        "$$  \n",
        "Where:  \n",
        "max(Z) = f(x) is linear objective function  \n",
        "g1 and g2 are linear constraint functions  \n",
        "and x is a element of real integer number  \n",
        "Integer programming is when some, or all of the variables are restricted to be integers.\n",
        "\n",
        "If all variables are integers ==> Integer Programming (IP)    \n",
        "Some variables are integers ==> Mixed Interger programming (MIP)  \n",
        "Some variables are intergers, and Linear Problem ==> Mixed Integer Linear Programming (MILP)   \n",
        "Usually solved via things like branch and bound etc.  "
      ],
      "metadata": {
        "id": "SaVdRiMkKJLO"
      }
    },
    {
      "cell_type": "markdown",
      "source": [
        "## Problem 1\n",
        "Colthes company capable of manufacturing 3 types of clothing: shirt, shorts and pants. Manufacturing each type of clothing requires appropriate types of machinery to be available. Machinaries are rented.  \n",
        "Shirt: \\$200   \n",
        "Shorts: \\$150    \n",
        "Pants: \\$100  \n",
        "Clothes and time are also needed, as shown in the table below:  \n",
        "\n",
        "|Type |Sales Price(\\$)| Cost($)|Labour (hr)| Cloth (sqyd)|   \n",
        "|-----|---------------|--------|-----------|-------------|   \n",
        "|Shirt| 12            | 6      | 3         | 4           |  \n",
        "|Short| 8             | 4      | 2         | 3           |\n",
        "|Pants| 15            | 8      | 6         | 4           |   \n",
        "\n",
        "There are only 150 hoursof labour and 160 sqyd of clothes available each week.  \n",
        "Formulate an IP solution where profit will be maximised.  \n",
        "\n",
        "<strong>Constraint 1: </strong>At most 150 hrs of labour used each week.  \n",
        "<strong>Constraint 2: </strong>At most 160 sqyd of cloth used each week.  \n"
      ],
      "metadata": {
        "id": "Mz9upuN7KJl-"
      }
    },
    {
      "cell_type": "markdown",
      "source": [
        "## Mathematical formulation  \n",
        "Let the index for the 3 products be i, where i = Shirt, Shorts, Pants.  \n",
        "Let Sals Price be S, Cost be C, Labour be L, Cloth be F (Fabric), Machine rent cost be M.  \n",
        "Let Profit be P, where P = S - C.  \n",
        "Let the number of each type of product made be x.\n",
        "Let Rent be R, where renting the corresponding machine will be 1, not renting will be 0.   \n",
        "\n",
        "$$\n",
        "\\\\ max ((P_i\\times x_i) - R_i \\times  M_i)  \n",
        "\\\\s.t  \n",
        "\\\\sum(x_i\\times L_i) \\leq 150  \n",
        "\\\\sum(x_i\\times F_i) \\leq 160\n",
        "\\\\ x_i \\geq 0\n",
        "\\\\ R_i = 0~ or~ 1\n",
        "$$"
      ],
      "metadata": {
        "id": "-FXEICliKJpt"
      }
    },
    {
      "cell_type": "markdown",
      "source": [
        "However, as we are noe using binary variables inour problem...   \n",
        "It is natural that we will need to find a way to link our R with production.  \n",
        "To link this 2 up, we usually use the big M method.  \n",
        "Therefore, we have an additional constraint.  \n",
        "$$\n",
        "\\\\x_i \\leq M_i \\times R_i\n",
        "$$  \n",
        "\n",
        "The big M method is used to link the binary variable in this case to the number of each type of products produced.  \n",
        "The idea is simple.  \n",
        "When R is 0, then x, the number of product produced, must be 0.  \n",
        "When R is 1, then R multiplied by big M, will have to be bigger than that type of product produced.  \n",
        "This basically helps to enforce that.  \n",
        "From my personal experience, big M should not be too small, nor should it be too big.  \n",
        "In this case, the max number of any 1 type of product is 160/3=53.3.  \n",
        "So a small big M can be 54.  \n",
        "Why keep big M small?   \n",
        "My guess is to reduce the search space.  "
      ],
      "metadata": {
        "id": "ocAHU0jUV09w"
      }
    },
    {
      "cell_type": "code",
      "execution_count": null,
      "metadata": {
        "id": "EoA_F6WNJ1Or"
      },
      "outputs": [],
      "source": []
    }
  ]
}
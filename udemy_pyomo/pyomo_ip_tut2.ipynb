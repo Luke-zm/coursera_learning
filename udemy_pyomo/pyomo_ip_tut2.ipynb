{
  "nbformat": 4,
  "nbformat_minor": 0,
  "metadata": {
    "colab": {
      "provenance": [],
      "authorship_tag": "ABX9TyP7hGQA0UWwf1WohG1DaO77",
      "include_colab_link": true
    },
    "kernelspec": {
      "name": "python3",
      "display_name": "Python 3"
    },
    "language_info": {
      "name": "python"
    }
  },
  "cells": [
    {
      "cell_type": "markdown",
      "metadata": {
        "id": "view-in-github",
        "colab_type": "text"
      },
      "source": [
        "<a href=\"https://colab.research.google.com/github/Luke-zm/coursera_learning/blob/main/udemy_pyomo/pyomo_ip_tut2.ipynb\" target=\"_parent\"><img src=\"https://colab.research.google.com/assets/colab-badge.svg\" alt=\"Open In Colab\"/></a>"
      ]
    },
    {
      "cell_type": "markdown",
      "source": [
        "# Problem 2\n",
        "\n",
        "A firm thar produces automobile seats manufactures 3 seat types on 2 different production lines.  \n",
        "Up to 30 workers can be used at the same time on each production line to produce any seat type.  \n",
        "Each worker is paid \\$400 per week on production line 1, and \\$600 per week on production line 2.   \n",
        "1 week of production on line 1 cost \\$1000, and cost \\$2000 on line 2.  \n",
        "Below table shows the number of seats by each worker on a production line.  \n",
        "\n",
        "|Line|Seat1|Seat2|seat3|  \n",
        "|----|-----|-----|-----|  \n",
        "|  1 | 20  |  30 |  40 |  \n",
        "|  2 | 50  |  35 |  45 |   \n",
        "\n",
        "The weekly demand of seat:  \n",
        "seat1: 120.  \n",
        "seat2: 150.  \n",
        "seat3: 200.  \n",
        "\n",
        "Use Integer Linear Programming to minimize the total cost of production plan.  \n",
        "\n",
        "\n"
      ],
      "metadata": {
        "id": "6TmlmFR-y7o8"
      }
    },
    {
      "cell_type": "markdown",
      "source": [
        "## Mathematical model\n",
        "\n",
        "Let the demand of each seat type be D_i.  \n",
        "Let the number of each type of seat produced on each line be X_i,j.  \n",
        "Let the cost of each worker be W_j.  \n",
        "Let the cost of each line be L_j.  \n",
        "Let the decsion of starting a line be S_j.  \n",
        "Let the big M for each line be M_j.  \n",
        "Let the number of each worker on each line be N_j.   \n",
        "Let i be in the range 1 to 3.   \n",
        "Let j be in the range 1 to 2.  \n",
        "\n",
        "$$  \n",
        "\\\\objective~ function:  \n",
        "\\\\min(\\sum_{j=1}(N_j \\times W_j) + \\sum_{j=1}(S_j\\times L_j))\n",
        "\\\\s.t  \n",
        "\\\\\\sum(X_{i,j}\\times N_j)\\geq D_i\n",
        "\\\\N_j \\leq S_j\\times M_j  \n",
        "$$  "
      ],
      "metadata": {
        "id": "o66oj0Yly79p"
      }
    },
    {
      "cell_type": "code",
      "execution_count": 1,
      "metadata": {
        "id": "Z7ISvWU8yDaa",
        "colab": {
          "base_uri": "https://localhost:8080/"
        },
        "outputId": "b1f9358b-6cc2-42f4-97d8-a54c37a0745b"
      },
      "outputs": [
        {
          "output_type": "stream",
          "name": "stdout",
          "text": [
            "Requirement already satisfied: pyomo in /usr/local/lib/python3.10/dist-packages (6.6.1)\n",
            "Requirement already satisfied: ply in /usr/local/lib/python3.10/dist-packages (from pyomo) (3.11)\n"
          ]
        }
      ],
      "source": [
        "# Install denpendencies\n",
        "!pip install pyomo\n",
        "!apt-get install -y -qq glpk-utils"
      ]
    },
    {
      "cell_type": "code",
      "source": [
        "import pyomo.environ as pyo\n",
        "from pyomo.opt import SolverFactory"
      ],
      "metadata": {
        "id": "QRXCVE965xv3"
      },
      "execution_count": 2,
      "outputs": []
    },
    {
      "cell_type": "code",
      "source": [
        "# Define the indicies\n",
        "i = ['Seat1', 'Seat2', 'Seat3']\n",
        "j = ['Line1', 'Line2']\n",
        "\n",
        "# Define the Parameters\n",
        "D = {'Seat1':120, 'Seat2':150, 'Seat3':200}\n",
        "W = {'Line1':400, 'Line2':600}\n",
        "L = {'Line1':1000, 'Line2':2000}\n",
        "X = {('Seat1', 'Line1'):20, ('Seat2', 'Line1'):30, ('Seat3', 'Line1'):40,\n",
        "     ('Seat1', 'Line2'):50, ('Seat2', 'Line2'):35, ('Seat3', 'Line2'):45}\n",
        "\n",
        "\n",
        "\n"
      ],
      "metadata": {
        "id": "9x3IRsZm6eyK"
      },
      "execution_count": 3,
      "outputs": []
    },
    {
      "cell_type": "code",
      "source": [
        "# Create model\n",
        "model = pyo.ConcreteModel()\n",
        "\n",
        "# Set pyomo set as indicies.\n",
        "model.i = pyo.Set(initialize=i)\n",
        "model.j = pyo.Set(initialize=j)\n",
        "\n",
        "# Set pyomo parameters\n",
        "model.Demand = pyo.Param(model.i, initialize=D)\n",
        "demand = model.Demand\n",
        "model.Worker_salary = pyo.Param(model.j, initialize=W)\n",
        "worker_sal = model.Worker_salary\n",
        "model.line_cost = pyo.Param(model.j, initialize=L)\n",
        "line_cost = model.line_cost\n",
        "model.production_eff = pyo.Param(model.i, model.j, initialize=X)\n",
        "production_eff = model.production_eff"
      ],
      "metadata": {
        "id": "Gl8d0UtI_nVw"
      },
      "execution_count": 4,
      "outputs": []
    },
    {
      "cell_type": "code",
      "source": [
        "big_M = 30\n",
        "# Create the decision variables\n",
        "model.num_workers = pyo.Var(model.j, within=pyo.NonNegativeIntegers)\n",
        "num_workers= model.num_workers\n",
        "model.num_lines = pyo.Var(model.j, within=pyo.Binary)\n",
        "num_lines = model.num_lines\n",
        "\n",
        "# Define the objective function\n",
        "def min_cost(model):\n",
        "  worker_cost = sum(model.Worker_salary[j] * model.num_workers[j]for j in model.j)\n",
        "  line_cost = sum(model.num_lines[j] * model.line_cost[j] for j in model.j)\n",
        "  total_cost = worker_cost + line_cost\n",
        "  return total_cost\n",
        "model.Objf = pyo.Objective(rule = min_cost, sense = pyo.minimize)"
      ],
      "metadata": {
        "id": "RqxThP-zDfNw"
      },
      "execution_count": 5,
      "outputs": []
    },
    {
      "cell_type": "code",
      "source": [
        "# Define the constraints\n",
        "def demand_const(model, i):\n",
        "  return sum(model.num_workers[j]*model.production_eff[i,j] for j in model.j) >= model.Demand[i]\n",
        "\n",
        "model.demand_constraint = pyo.ConstraintList()\n",
        "for i in model.i:\n",
        "  model.demand_constraint.add(\n",
        "      expr=demand_const(model, i)\n",
        "  )\n",
        "\n",
        "def big_M(model, j):\n",
        "  return model.num_workers[j] <= 30 * model.num_lines[j]\n",
        "model.big_M = pyo.ConstraintList()\n",
        "for j in model.j:\n",
        "  model.big_M.add(\n",
        "      expr=big_M(model, j)\n",
        "  )"
      ],
      "metadata": {
        "id": "10auf8C1GXYo"
      },
      "execution_count": 6,
      "outputs": []
    },
    {
      "cell_type": "code",
      "source": [
        "# Create solver factory\n",
        "Solver = SolverFactory('glpk')\n",
        "results =Solver.solve(model)\n"
      ],
      "metadata": {
        "id": "LdEwgkt5ILhJ"
      },
      "execution_count": 7,
      "outputs": []
    },
    {
      "cell_type": "code",
      "source": [
        "print(results)\n",
        "print('objective function: ', model.Objf())"
      ],
      "metadata": {
        "colab": {
          "base_uri": "https://localhost:8080/"
        },
        "id": "zkbQBdWGIovL",
        "outputId": "cc3395b5-461e-4974-fb8d-62857da211cf"
      },
      "execution_count": 8,
      "outputs": [
        {
          "output_type": "stream",
          "name": "stdout",
          "text": [
            "\n",
            "Problem: \n",
            "- Name: unknown\n",
            "  Lower bound: 3400.0\n",
            "  Upper bound: 3400.0\n",
            "  Number of objectives: 1\n",
            "  Number of constraints: 5\n",
            "  Number of variables: 4\n",
            "  Number of nonzeros: 10\n",
            "  Sense: minimize\n",
            "Solver: \n",
            "- Status: ok\n",
            "  Termination condition: optimal\n",
            "  Statistics: \n",
            "    Branch and bound: \n",
            "      Number of bounded subproblems: 3\n",
            "      Number of created subproblems: 3\n",
            "  Error rc: 0\n",
            "  Time: 0.011162042617797852\n",
            "Solution: \n",
            "- number of solutions: 0\n",
            "  number of solutions displayed: 0\n",
            "\n",
            "objective function:  3400.0\n"
          ]
        }
      ]
    },
    {
      "cell_type": "code",
      "source": [
        "for j in model.j:\n",
        "  print(f\"The number of worker on {j} is {model.num_workers[j]()}\")"
      ],
      "metadata": {
        "colab": {
          "base_uri": "https://localhost:8080/"
        },
        "id": "vQAZDdFsIrxr",
        "outputId": "3300efd2-4b19-4f3c-ff45-72ebfbe9ae50"
      },
      "execution_count": 10,
      "outputs": [
        {
          "output_type": "stream",
          "name": "stdout",
          "text": [
            "The number of worker on Line1 is 6.0\n",
            "The number of worker on Line2 is 0.0\n"
          ]
        }
      ]
    },
    {
      "cell_type": "code",
      "source": [],
      "metadata": {
        "id": "IqIe_M28I9Sd"
      },
      "execution_count": null,
      "outputs": []
    }
  ]
}
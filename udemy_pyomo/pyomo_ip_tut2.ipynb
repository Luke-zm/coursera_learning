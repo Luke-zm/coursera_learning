{
  "nbformat": 4,
  "nbformat_minor": 0,
  "metadata": {
    "colab": {
      "provenance": [],
      "authorship_tag": "ABX9TyPmn58h6wYewFOgjJTNSaXs",
      "include_colab_link": true
    },
    "kernelspec": {
      "name": "python3",
      "display_name": "Python 3"
    },
    "language_info": {
      "name": "python"
    }
  },
  "cells": [
    {
      "cell_type": "markdown",
      "metadata": {
        "id": "view-in-github",
        "colab_type": "text"
      },
      "source": [
        "<a href=\"https://colab.research.google.com/github/Luke-zm/coursera_learning/blob/main/udemy_pyomo/pyomo_ip_tut2.ipynb\" target=\"_parent\"><img src=\"https://colab.research.google.com/assets/colab-badge.svg\" alt=\"Open In Colab\"/></a>"
      ]
    },
    {
      "cell_type": "markdown",
      "source": [
        "# Problem 2\n",
        "\n",
        "A firm thar produces automobile seats manufactures 3 seat types on 2 different production lines.  \n",
        "Up to 30 workers can be used at the same time on each production line to produce any seat type.  \n",
        "Each worker is paid \\$400 per week on production line 1, and \\$600 per week on production line 2.   \n",
        "1 week of production on line 1 cost \\$1000, and cost \\$2000 on line 2.  \n",
        "Below table shows the number of seats by each worker on a production line.  \n",
        "\n",
        "|Line|Seat1|Seat2|seat3|  \n",
        "|----|-----|-----|-----|  \n",
        "|  1 | 20  |  30 |  40 |  \n",
        "|  2 | 50  |  35 |  45 |   \n",
        "\n",
        "The weekly demand of seat:\n",
        "seat1: 120.  \n",
        "seat2: 150.  \n",
        "seat3: 200.  \n",
        "\n",
        "Use Integer Linear Programming to minimize the total cost of production plan.  \n",
        "\n",
        "\n"
      ],
      "metadata": {
        "id": "6TmlmFR-y7o8"
      }
    },
    {
      "cell_type": "markdown",
      "source": [
        "## Mathematical model\n",
        "\n",
        "Let the demand of each seat type be D_i.  \n",
        "Let the number of each type of seat produced on each line be X_i,j.  \n",
        "Let the cost of each worker be W_j.  \n",
        "Let the cost of each line be L_j.  \n",
        "Let the decsion of starting a line be S_j.  \n",
        "Let the big M for each line be M_j.  \n",
        "Let the number of each worker on each line be N_j.   \n",
        "Let i be in the range 1 to 3.   \n",
        "Let j be in the range 1 to 2.  \n",
        "\n",
        "$$  \n",
        "\\\\objective~ function:  \n",
        "\\\\min(\\sum_{j=1}(N_j \\times W_j) + \\sum_{j=1}(S_j\\times L_j))\n",
        "\\\\s.t  \n",
        "\\\\\\sum(X_{i,j}\\times N_j)\\geq D_i\n",
        "\\\\N_j \\leq S_j\\times M_j  \n",
        "$$  "
      ],
      "metadata": {
        "id": "o66oj0Yly79p"
      }
    },
    {
      "cell_type": "code",
      "execution_count": 2,
      "metadata": {
        "id": "Z7ISvWU8yDaa",
        "colab": {
          "base_uri": "https://localhost:8080/"
        },
        "outputId": "c276c60c-3dae-45db-fe5a-624eb867bcab"
      },
      "outputs": [
        {
          "output_type": "stream",
          "name": "stdout",
          "text": [
            "Requirement already satisfied: pyomo in /usr/local/lib/python3.10/dist-packages (6.6.1)\n",
            "Requirement already satisfied: ply in /usr/local/lib/python3.10/dist-packages (from pyomo) (3.11)\n",
            "Selecting previously unselected package libsuitesparseconfig5:amd64.\n",
            "(Reading database ... 120831 files and directories currently installed.)\n",
            "Preparing to unpack .../libsuitesparseconfig5_1%3a5.10.1+dfsg-4build1_amd64.deb ...\n",
            "Unpacking libsuitesparseconfig5:amd64 (1:5.10.1+dfsg-4build1) ...\n",
            "Selecting previously unselected package libamd2:amd64.\n",
            "Preparing to unpack .../libamd2_1%3a5.10.1+dfsg-4build1_amd64.deb ...\n",
            "Unpacking libamd2:amd64 (1:5.10.1+dfsg-4build1) ...\n",
            "Selecting previously unselected package libcolamd2:amd64.\n",
            "Preparing to unpack .../libcolamd2_1%3a5.10.1+dfsg-4build1_amd64.deb ...\n",
            "Unpacking libcolamd2:amd64 (1:5.10.1+dfsg-4build1) ...\n",
            "Selecting previously unselected package libglpk40:amd64.\n",
            "Preparing to unpack .../libglpk40_5.0-1_amd64.deb ...\n",
            "Unpacking libglpk40:amd64 (5.0-1) ...\n",
            "Selecting previously unselected package glpk-utils.\n",
            "Preparing to unpack .../glpk-utils_5.0-1_amd64.deb ...\n",
            "Unpacking glpk-utils (5.0-1) ...\n",
            "Setting up libsuitesparseconfig5:amd64 (1:5.10.1+dfsg-4build1) ...\n",
            "Setting up libamd2:amd64 (1:5.10.1+dfsg-4build1) ...\n",
            "Setting up libcolamd2:amd64 (1:5.10.1+dfsg-4build1) ...\n",
            "Setting up libglpk40:amd64 (5.0-1) ...\n",
            "Setting up glpk-utils (5.0-1) ...\n",
            "Processing triggers for man-db (2.10.2-1) ...\n",
            "Processing triggers for libc-bin (2.35-0ubuntu3.1) ...\n",
            "/sbin/ldconfig.real: /usr/local/lib/libtbbmalloc.so.2 is not a symbolic link\n",
            "\n",
            "/sbin/ldconfig.real: /usr/local/lib/libtbbbind_2_5.so.3 is not a symbolic link\n",
            "\n",
            "/sbin/ldconfig.real: /usr/local/lib/libtbbmalloc_proxy.so.2 is not a symbolic link\n",
            "\n",
            "/sbin/ldconfig.real: /usr/local/lib/libtbbbind.so.3 is not a symbolic link\n",
            "\n",
            "/sbin/ldconfig.real: /usr/local/lib/libtbb.so.12 is not a symbolic link\n",
            "\n",
            "/sbin/ldconfig.real: /usr/local/lib/libtbbbind_2_0.so.3 is not a symbolic link\n",
            "\n"
          ]
        }
      ],
      "source": [
        "# Install denpendencies\n",
        "!pip install pyomo\n",
        "!apt-get install -y -qq glpk-utils"
      ]
    },
    {
      "cell_type": "code",
      "source": [
        "import pyomo.environ as pyo\n",
        "from pyomo.opt import SolverFactory"
      ],
      "metadata": {
        "id": "QRXCVE965xv3"
      },
      "execution_count": 3,
      "outputs": []
    },
    {
      "cell_type": "code",
      "source": [],
      "metadata": {
        "id": "9x3IRsZm6eyK"
      },
      "execution_count": null,
      "outputs": []
    }
  ]
}
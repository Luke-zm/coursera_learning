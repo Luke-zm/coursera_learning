{
  "nbformat": 4,
  "nbformat_minor": 0,
  "metadata": {
    "colab": {
      "provenance": [],
      "authorship_tag": "ABX9TyOIi+MTEZOWb3EJM9e9AFfU",
      "include_colab_link": true
    },
    "kernelspec": {
      "name": "python3",
      "display_name": "Python 3"
    },
    "language_info": {
      "name": "python"
    }
  },
  "cells": [
    {
      "cell_type": "markdown",
      "metadata": {
        "id": "view-in-github",
        "colab_type": "text"
      },
      "source": [
        "<a href=\"https://colab.research.google.com/github/Luke-zm/coursera_learning/blob/main/udemy_pyomo/pyomo_lp_tut2.ipynb\" target=\"_parent\"><img src=\"https://colab.research.google.com/assets/colab-badge.svg\" alt=\"Open In Colab\"/></a>"
      ]
    },
    {
      "cell_type": "code",
      "execution_count": null,
      "metadata": {
        "colab": {
          "base_uri": "https://localhost:8080/"
        },
        "id": "jT8RGO_Yl26Q",
        "outputId": "6fc6adce-09ef-4440-f346-5eb9722ae241"
      },
      "outputs": [
        {
          "output_type": "stream",
          "name": "stdout",
          "text": [
            "Requirement already satisfied: pyomo in /usr/local/lib/python3.10/dist-packages (6.6.1)\n",
            "Requirement already satisfied: ply in /usr/local/lib/python3.10/dist-packages (from pyomo) (3.11)\n"
          ]
        }
      ],
      "source": [
        "# Tutorial notes on udemy course.\n",
        "!pip install pyomo\n",
        "!apt-get install -y -qq glpk-utils"
      ]
    },
    {
      "cell_type": "markdown",
      "source": [
        "Decison variables:\n",
        "$$\n",
        "\\\\x_1: num~ ~desk\n",
        "\\\\x_2: num~ ~table\n",
        "\\\\x_3: num~ ~chairs\n",
        "$$\n",
        "Obj\n",
        "$$\n",
        "\\max(z) = 60 x_1 + 30 x_2 + 20 x_3\n",
        "$$\n",
        "\n",
        "$$\n",
        "s.t\n",
        "\\\\8x_1 + 6x_2 + x_3 \\leq 48\n",
        "\\\\4x_1 + 2x_2 + 1.5 x_3 \\leq 20\n",
        "\\\\2x_1 + 1.5x_2 + 0.5x_3 \\leq 8\n",
        "\\\\ x_2 \\leq 5\n",
        "$$\n"
      ],
      "metadata": {
        "id": "RkuPTlsfmbmb"
      }
    },
    {
      "cell_type": "markdown",
      "source": [
        "When the number of decision vraibles increase, then this way of writing out decison var 1 by 1 will not work.\n",
        "The more professional way is use a range of numbers/ sets of numbers to make formulation easier for myself.\n",
        "$$\n",
        "\\mathcal{x}_i,~ ~where~i = \\{1,2,3\\}\n",
        "\\\\max(z) = \\sum_{i=1}^{n} P_i \\times x_i\n",
        "\\\\s.t\n",
        "\\\\ \\sum_{i=1}^{n} L_i \\times x_i \\leq 48\n",
        "\\\\ \\sum_{i=1}^{n} F_i \\times x_i \\leq 20\n",
        "\\\\ \\sum_{i=1}^{n} C_i \\times x_i \\leq 8\n",
        "\\\\ x_2 \\leq 5\n",
        "$$\n",
        "\n",
        "Always formulate the problem using sets"
      ],
      "metadata": {
        "id": "OcaU_o93mcGm"
      }
    },
    {
      "cell_type": "code",
      "source": [
        "import pyomo.environ as pyo\n",
        "from pyomo.opt import SolverFactory"
      ],
      "metadata": {
        "id": "2S5o7qu9mGip"
      },
      "execution_count": null,
      "outputs": []
    },
    {
      "cell_type": "code",
      "source": [
        "model = pyo.ConcreteModel()\n",
        "\n",
        "# Sets, usually work as index\n",
        "model.i = pyo.Set(initialize = ['Desk', 'Table', 'Chair'])\n",
        "\n",
        "# Parameters\n",
        "model.L = pyo.Param(model.i, initialize = {'Desk':8, 'Table': 6, 'Chair': 1})\n",
        "L = model.L\n",
        "model.F = pyo.Param(model.i, initialize = {'Desk':4, 'Table': 2, 'Chair': 1.5})\n",
        "F = model.F\n",
        "model.C = pyo.Param(model.i, initialize = {'Desk':2, 'Table': 1.5, 'Chair': 0.5})\n",
        "C = model.C\n",
        "model.Price = pyo.Param(model.i, initialize = {'Desk':60, 'Table': 30, 'Chair': 20})\n",
        "Price = model.Price"
      ],
      "metadata": {
        "id": "Wne_4r2Jt1EH"
      },
      "execution_count": null,
      "outputs": []
    },
    {
      "cell_type": "code",
      "source": [
        "# Decision variable\n",
        "# Anytime in the model formulation there's index, then inclue the index.\n",
        "model.x = pyo.Var(model.i, within=pyo.NonNegativeReals)\n",
        "x = model.x"
      ],
      "metadata": {
        "id": "QE4qQU6UvXtu"
      },
      "execution_count": null,
      "outputs": []
    },
    {
      "cell_type": "code",
      "source": [
        "# Objective function\n",
        "# because of using a pyo.Set(), better to define a function for Obj and Constraint\n",
        "def objective_rule(model):\n",
        "  return sum(Price[i]*x[i] for i in model.i)\n",
        "\n",
        "# Pass this function to pyomo\n",
        "model.Obj = pyo.Objective(rule = objective_rule, sense = pyo.maximize)"
      ],
      "metadata": {
        "id": "ijVtBW8RV7yM"
      },
      "execution_count": null,
      "outputs": []
    },
    {
      "cell_type": "code",
      "source": [
        "# Define the constaint functions\n",
        "# Note: don't really need to define i again over here, but best practice is just put here\n",
        "def lumber_cons(model,i):\n",
        "  return sum(L[i]*x[i] for i in model.i)<=48\n",
        "model.lumber_con = pyo.Constraint(model.i, rule=lumber_cons)\n",
        "\n",
        "def fin_cons(model, i):\n",
        "  return sum(F[i]*x[i] for i in model.i) <=20\n",
        "model.fin_con = pyo.Constraint(model.i, rule=fin_cons)\n",
        "\n",
        "def cap_cons(model, i):\n",
        "  return sum(C[i]*x[i] for i in model.i) <=8\n",
        "model.cap_con = pyo.Constraint(model.i, rule=cap_cons)\n",
        "\n",
        "# The last constriant\n",
        "def tab_num_con(model, i):\n",
        "  return x['Table'] <=5\n",
        "model.tab_num_con = pyo.Constraint(model.i, rule=tab_num_con)"
      ],
      "metadata": {
        "id": "o7_jeZRHX3u0"
      },
      "execution_count": null,
      "outputs": []
    },
    {
      "cell_type": "code",
      "source": [
        "# Solve\n",
        "Solver = SolverFactory('glpk')\n",
        "\n",
        "results = Solver.solve(model)\n",
        "\n",
        "print(results)\n",
        "print('Objective function = ', model.Obj())\n",
        "\n",
        "# x is not unique, hence need to call pyomo set used for indexing to find the correct element\n",
        "for i in model.i:\n",
        "  print('Number of', i, 'produced = ', x[i]())"
      ],
      "metadata": {
        "colab": {
          "base_uri": "https://localhost:8080/"
        },
        "id": "pl61WR85eZWx",
        "outputId": "5dac7808-0ced-4448-adae-b29c94d6f95b"
      },
      "execution_count": null,
      "outputs": [
        {
          "output_type": "stream",
          "name": "stdout",
          "text": [
            "\n",
            "Problem: \n",
            "- Name: unknown\n",
            "  Lower bound: 280.0\n",
            "  Upper bound: 280.0\n",
            "  Number of objectives: 1\n",
            "  Number of constraints: 12\n",
            "  Number of variables: 3\n",
            "  Number of nonzeros: 30\n",
            "  Sense: maximize\n",
            "Solver: \n",
            "- Status: ok\n",
            "  Termination condition: optimal\n",
            "  Statistics: \n",
            "    Branch and bound: \n",
            "      Number of bounded subproblems: 0\n",
            "      Number of created subproblems: 0\n",
            "  Error rc: 0\n",
            "  Time: 0.0037021636962890625\n",
            "Solution: \n",
            "- number of solutions: 0\n",
            "  number of solutions displayed: 0\n",
            "\n",
            "Objective function =  280.0\n",
            "Number of Desk produced =  2.0\n",
            "Number of Table produced =  0.0\n",
            "Number of Chair produced =  8.0\n"
          ]
        }
      ]
    }
  ]
}
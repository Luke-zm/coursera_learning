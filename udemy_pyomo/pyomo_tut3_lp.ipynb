{
  "nbformat": 4,
  "nbformat_minor": 0,
  "metadata": {
    "colab": {
      "provenance": [],
      "authorship_tag": "ABX9TyNkK9v6qO5htuKKgfXuQ5Im",
      "include_colab_link": true
    },
    "kernelspec": {
      "name": "python3",
      "display_name": "Python 3"
    },
    "language_info": {
      "name": "python"
    }
  },
  "cells": [
    {
      "cell_type": "markdown",
      "metadata": {
        "id": "view-in-github",
        "colab_type": "text"
      },
      "source": [
        "<a href=\"https://colab.research.google.com/github/Luke-zm/coursera_learning/blob/main/udemy_pyomo/pyomo_tut3_lp.ipynb\" target=\"_parent\"><img src=\"https://colab.research.google.com/assets/colab-badge.svg\" alt=\"Open In Colab\"/></a>"
      ]
    },
    {
      "cell_type": "code",
      "execution_count": 70,
      "metadata": {
        "colab": {
          "base_uri": "https://localhost:8080/"
        },
        "id": "GmrWU6IHjXWM",
        "outputId": "5ebe133d-dbdb-4cb5-f8d2-c8c4a35cff81"
      },
      "outputs": [
        {
          "output_type": "stream",
          "name": "stdout",
          "text": [
            "Requirement already satisfied: pyomo in /usr/local/lib/python3.10/dist-packages (6.6.1)\n",
            "Requirement already satisfied: ply in /usr/local/lib/python3.10/dist-packages (from pyomo) (3.11)\n"
          ]
        }
      ],
      "source": [
        "# For colab, install the necessary kits\n",
        "!pip install pyomo\n",
        "!apt-get install -y -qq glpk-utils"
      ]
    },
    {
      "cell_type": "markdown",
      "source": [
        "Powerco has 3 electric power plants that supply the needs of 4 cities. Each power plant can supply the following numbers of kWh of electricity.   \n",
        "Plant 1 -- 35 million;  \n",
        "Plant 2 -- 50 million;  \n",
        "Plant 3 -- 40 million;  \n",
        "The peak power demands in these cities are:\n",
        "City 1 -- 45 million;  \n",
        "City 2 -- 20 million;  \n",
        "City 3 -- 30 million;  \n",
        "City 4 -- 30 million;  \n",
        "The cost of sending 1 million kWh of electricity from plant to city can be found below.  Formulate LP to minimize the cost of meeting each city's peak power demand.  \n",
        "|      | TO |   |   |   | Supply  |  \n",
        "|------|----|---|---|---|---|  \n",
        "|   From|  city 1  |  city 2 | city 3  | city 4  |(Million kWh)|  \n",
        "|Plant 1|  $8      |  $6     |  $10    |  $9     |   35        |   \n",
        "|Plant 2|  $9      |  $12    |  $13    |  $7     |   50        |   \n",
        "|Plant 3|  $14     |  $9     |  $16    |  $5     |   40        |   \n",
        "|Demand |  45      |  20     |  30     |  30     |             |   "
      ],
      "metadata": {
        "id": "JqMIM4dFnX1t"
      }
    },
    {
      "cell_type": "markdown",
      "source": [
        "First, decide on the decision variables for the problems.  \n",
        "The decision vraibles are the power to each city from each plant.  \n",
        "There need to be 2 sets of indices. 1 set representing the plant, the other representing the cities.  \n",
        "Let E be the ammount of energy in million kWh.  \n",
        "Let C be the cost of sending the energy in dollars.\n",
        "Let p be the index for power plants.\n",
        "Let c be the index for cities.\n",
        "$$  \n",
        "\\\\p = \\{1, 2, 3\\}  \n",
        "\\\\c = \\{1, 2, 3, 4 \\}  \n",
        "\\\\obj:~~~~min~sum(E_{p,c} \\times C_{c,p})\n",
        "\\\\s.t:\n",
        "\\\\sum(E_{1,c})\\leq35\n",
        "\\\\sum(E_{2,c})\\leq50\n",
        "\\\\sum(E_{3,c})\\leq40\n",
        "\\\\sum(E_{p,1})\\geq45\n",
        "\\\\sum(E_{p,2})\\geq20\n",
        "\\\\sum(E_{p,3})\\geq30\n",
        "\\\\sum(E_{p,4})\\geq30\n",
        "\\\\E_{p,c}\\geq0\n",
        "$$  "
      ],
      "metadata": {
        "id": "p0M0ld0uq0Q9"
      }
    },
    {
      "cell_type": "code",
      "source": [
        "# Import the tools\n",
        "import pyomo.environ as pyo\n",
        "from pyomo.opt import SolverFactory"
      ],
      "metadata": {
        "id": "OlGQ8OcanV0c"
      },
      "execution_count": 71,
      "outputs": []
    },
    {
      "cell_type": "code",
      "source": [
        "from pyomo.core.base import initializer\n",
        "# Create the model\n",
        "model = pyo.ConcreteModel()\n",
        "\n",
        "# Create the sets for indicies\n",
        "# Index for power plants\n",
        "model.p = pyo.Set(initialize=['Plant1', 'Plant2', 'Plant3'])\n",
        "# Index for cities\n",
        "model.c = pyo.Set(initialize=['City1', 'City2', 'City3', 'City4'])"
      ],
      "metadata": {
        "id": "HI4ZBYrbj1HB"
      },
      "execution_count": 72,
      "outputs": []
    },
    {
      "cell_type": "code",
      "source": [
        "# Create the parameters, parameters are stuff that should be fixed\n",
        "# for the duration of the calculation by optimisation\n",
        "\n",
        "# Define the limit for the ammount of energy each plant can produce, this is a parameter\n",
        "plant_cap_dict = {'Plant1':35, 'Plant2':50, 'Plant3':40}\n",
        "model.plant_cap = pyo.Param(model.p, initialize=plant_cap_dict)\n",
        "plant_cap = model.plant_cap\n",
        "\n",
        "# Define the ammount of energy each city will require, this is a parameter.\n",
        "city_demand_dict = {'City1':45, 'City2':20, 'City3':30, 'City4':30}\n",
        "model.city_demand = pyo.Param(model.c, initialize=city_demand_dict)\n",
        "city_demand = model.city_demand\n",
        "\n",
        "# Define the cost of sending energy from plant to city.\n",
        "# Index needed is both p and c\n",
        "cost_dict = {\n",
        "    ('Plant1', 'City1'):8, ('Plant1', 'City2'):6, ('Plant1', 'City3'):10, ('Plant1', 'City4'):9,\n",
        "    ('Plant2', 'City1'):9, ('Plant2', 'City2'):12, ('Plant2', 'City3'):13, ('Plant2', 'City4'):7,\n",
        "    ('Plant3', 'City1'):14, ('Plant3', 'City2'):9, ('Plant3', 'City3'):16, ('Plant3', 'City4'):5\n",
        "}\n",
        "model.cost = pyo.Param(model.p, model.c, initialize=cost_dict)\n",
        "cost = model.cost\n",
        "\n"
      ],
      "metadata": {
        "id": "_YUU5rcdzqaN"
      },
      "execution_count": 73,
      "outputs": []
    },
    {
      "cell_type": "code",
      "source": [
        "# Decision variables\n",
        "model.energy = pyo.Var(model.p, model.c, within=pyo.NonNegativeReals)\n",
        "energy = model.energy"
      ],
      "metadata": {
        "id": "s4Tetrx3tZuA"
      },
      "execution_count": 74,
      "outputs": []
    },
    {
      "cell_type": "code",
      "source": [
        "# Define objective function\n",
        "def Objective_rule(model):\n",
        "  return sum(sum(cost[p, c]*energy[p,c] for p in model.p) for c in model.c)\n",
        "\n",
        "model.Objf = pyo.Objective(rule = Objective_rule, sense = pyo.minimize)"
      ],
      "metadata": {
        "id": "i8V9Oc4ouVOd"
      },
      "execution_count": 75,
      "outputs": []
    },
    {
      "cell_type": "code",
      "source": [
        "# Constraints\n",
        "# Across all cities, from 'Plant1'\n",
        "# def plant1_cap(model, c):\n",
        "#   return sum(energy['Plant1', c] for c in model.c) <= plant_cap['Plant1']\n",
        "# model.plant1_const = pyo.Constraint(model.c, rule=plant1_cap)\n",
        "\n",
        "# # Across all cities, from 'Plant2'\n",
        "# def plant2_cap(model, c):\n",
        "#   return sum(energy['Plant2', c] for c in model.c) <= plant_cap['Plant2']\n",
        "# model.plant2_const = pyo.Constraint(model.c, rule=plant2_cap)\n",
        "\n",
        "# # Across all cities, from 'Plant3'\n",
        "# def plant3_cap(model, c):\n",
        "#   return sum(energy['Plant3', c]for c in model.c) <= plant_cap['Plant3']\n",
        "# model.plant3_const = pyo.Constraint(model.c, rule=plant3_cap)\n",
        "\n",
        "# Across all plants, for 'City1'\n",
        "# def city1_demand(model, p):\n",
        "#   return sum(energy[p, 'City1'] for p in model.p )>=city_demand['City1']\n",
        "# model.city1_demand = pyo.Constraint(model.p, rule=city1_demand)\n",
        "\n",
        "# # Across all plants, for 'City2'\n",
        "# def city2_demand(model, p):\n",
        "#   return sum(energy[p, 'City2'] for p in model.p )>=city_demand['City2']\n",
        "# model.city2_demand = pyo.Constraint(model.p, rule=city2_demand)\n",
        "\n",
        "# # Across all plants, for 'City3'\n",
        "# def city3_demand(model, p):\n",
        "#   return sum(energy[p, 'City3'] for p in model.p )>=city_demand['City3']\n",
        "# model.city3_demand = pyo.Constraint(model.p, rule=city3_demand)\n",
        "\n",
        "# # Across all plants, for 'City4'\n",
        "# def city4_demand(model, p):\n",
        "#   return sum(energy[p, 'City4'] for p in model.p )>=city_demand['City4']\n",
        "# model.city4_demand = pyo.Constraint(model.p, rule=city4_demand)\n"
      ],
      "metadata": {
        "id": "fIK2b-Lvv6Jb"
      },
      "execution_count": 76,
      "outputs": []
    },
    {
      "cell_type": "code",
      "source": [
        "# Use constraint list from pyomo for more compact formulation\n",
        "\n",
        "# Personal trial\n",
        "# Define the overall equation for power plant production capacity\n",
        "def plant_prod_cap(model, plant, c=None):\n",
        "  return sum(energy[plant, c] for c in model.c) <= plant_cap[plant]\n",
        "model.plant_prod_cap_con = pyo.ConstraintList()\n",
        "for plant in model.p:\n",
        "  model.plant_prod_cap_con.add(\n",
        "      expr=plant_prod_cap(model,plant)\n",
        "  )\n",
        "\n",
        "# Define the overall equation for city demand constraint\n",
        "def city_demand_const(model, city, p=None):\n",
        "  return sum(energy[plant, city] for plant in model.p) >= city_demand[city]\n",
        "model.city_demand_con = pyo.ConstraintList()\n",
        "for city in model.c:\n",
        "  model.city_demand_con.add(\n",
        "      expr=city_demand_const(model,city)\n",
        "  )\n",
        "\n",
        "# Note: added p=None/ c=None, to remind myself these are supposed to\n",
        "# be carried by the modelinteranlly"
      ],
      "metadata": {
        "id": "HcyNCvhIzfmy"
      },
      "execution_count": 77,
      "outputs": []
    },
    {
      "cell_type": "markdown",
      "source": [
        "Personal experiment is a sucess.  \n",
        "Using pyo.ConstraintList() is a much more compact and professional method."
      ],
      "metadata": {
        "id": "-NXMvqSi5Y89"
      }
    },
    {
      "cell_type": "code",
      "source": [
        "Solver = SolverFactory('glpk')\n",
        "results =Solver.solve(model)\n",
        "\n",
        "print(results)\n",
        "print('objective function: ', model.Objf())\n",
        "\n",
        "for plant in model.p:\n",
        "  for city in model.c:\n",
        "    print(f\"Enenrgy sent from {plant} to {city} is {energy[plant, city]()}\")"
      ],
      "metadata": {
        "colab": {
          "base_uri": "https://localhost:8080/"
        },
        "id": "pIDqUZSN1X9Q",
        "outputId": "ae2853e6-8b0f-4c29-d0d7-0c229e5aa635"
      },
      "execution_count": 78,
      "outputs": [
        {
          "output_type": "stream",
          "name": "stdout",
          "text": [
            "\n",
            "Problem: \n",
            "- Name: unknown\n",
            "  Lower bound: 1020.0\n",
            "  Upper bound: 1020.0\n",
            "  Number of objectives: 1\n",
            "  Number of constraints: 7\n",
            "  Number of variables: 12\n",
            "  Number of nonzeros: 24\n",
            "  Sense: minimize\n",
            "Solver: \n",
            "- Status: ok\n",
            "  Termination condition: optimal\n",
            "  Statistics: \n",
            "    Branch and bound: \n",
            "      Number of bounded subproblems: 0\n",
            "      Number of created subproblems: 0\n",
            "  Error rc: 0\n",
            "  Time: 0.007344961166381836\n",
            "Solution: \n",
            "- number of solutions: 0\n",
            "  number of solutions displayed: 0\n",
            "\n",
            "objective function:  1020.0\n",
            "Enenrgy sent from Plant1 to City1 is 0.0\n",
            "Enenrgy sent from Plant1 to City2 is 10.0\n",
            "Enenrgy sent from Plant1 to City3 is 25.0\n",
            "Enenrgy sent from Plant1 to City4 is 0.0\n",
            "Enenrgy sent from Plant2 to City1 is 45.0\n",
            "Enenrgy sent from Plant2 to City2 is 0.0\n",
            "Enenrgy sent from Plant2 to City3 is 5.0\n",
            "Enenrgy sent from Plant2 to City4 is 0.0\n",
            "Enenrgy sent from Plant3 to City1 is 0.0\n",
            "Enenrgy sent from Plant3 to City2 is 10.0\n",
            "Enenrgy sent from Plant3 to City3 is 0.0\n",
            "Enenrgy sent from Plant3 to City4 is 30.0\n"
          ]
        }
      ]
    }
  ]
}
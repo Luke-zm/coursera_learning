{
  "nbformat": 4,
  "nbformat_minor": 0,
  "metadata": {
    "colab": {
      "provenance": [],
      "authorship_tag": "ABX9TyNNb1QOCqAnMxgfj0wGPbjA",
      "include_colab_link": true
    },
    "kernelspec": {
      "name": "python3",
      "display_name": "Python 3"
    },
    "language_info": {
      "name": "python"
    }
  },
  "cells": [
    {
      "cell_type": "markdown",
      "metadata": {
        "id": "view-in-github",
        "colab_type": "text"
      },
      "source": [
        "<a href=\"https://colab.research.google.com/github/Luke-zm/coursera_learning/blob/main/udemy_pyomo/pyomo_ip_tut1.ipynb\" target=\"_parent\"><img src=\"https://colab.research.google.com/assets/colab-badge.svg\" alt=\"Open In Colab\"/></a>"
      ]
    },
    {
      "cell_type": "markdown",
      "source": [
        "# Integer Programming\n",
        "\n",
        "Integer programming is very similar to linear programming.  \n",
        "The objective, and constraints have to be linear.  \n",
        "The variables must be integer, instead of any real number in linear programming.  \n",
        "$$  \n",
        "max~ z = f(x)  \n",
        "\\\\s.t  \n",
        "\\\\g_1(x) \\leq 0  \n",
        "\\\\g_2(x) = 0  \n",
        "\\\\ x \\in Z^n  \n",
        "$$  \n",
        "Where:  \n",
        "max(Z) = f(x) is linear objective function  \n",
        "g1 and g2 are linear constraint functions  \n",
        "and x is a element of real integer number  \n",
        "Integer programming is when some, or all of the variables are restricted to be integers.\n",
        "\n",
        "If all variables are integers ==> Integer Programming (IP)    \n",
        "Some variables are integers ==> Mixed Interger programming (MIP)  \n",
        "Some variables are intergers, and Linear Problem ==> Mixed Integer Linear Programming (MILP)   \n",
        "Usually solved via things like branch and bound etc.  "
      ],
      "metadata": {
        "id": "SaVdRiMkKJLO"
      }
    },
    {
      "cell_type": "markdown",
      "source": [
        "## Problem 1\n",
        "Colthes company capable of manufacturing 3 types of clothing: shirt, shorts and pants. Manufacturing each type of clothing requires appropriate types of machinery to be available. Machinaries are rented.  \n",
        "Shirt: \\$200   \n",
        "Shorts: \\$150    \n",
        "Pants: \\$100  \n",
        "Clothes and time are also needed, as shown in the table below:  \n",
        "\n",
        "|Type |Sales Price(\\$)| Cost($)|Labour (hr)| Cloth (sqyd)|   \n",
        "|-----|---------------|--------|-----------|-------------|   \n",
        "|Shirt| 12            | 6      | 3         | 4           |  \n",
        "|Short| 8             | 4      | 2         | 3           |\n",
        "|Pants| 15            | 8      | 6         | 4           |   \n",
        "\n",
        "There are only 150 hoursof labour and 160 sqyd of clothes available each week.  \n",
        "Formulate an IP solution where profit will be maximised.  \n",
        "\n",
        "<strong>Constraint 1: </strong>At most 150 hrs of labour used each week.  \n",
        "<strong>Constraint 2: </strong>At most 160 sqyd of cloth used each week.  \n"
      ],
      "metadata": {
        "id": "Mz9upuN7KJl-"
      }
    },
    {
      "cell_type": "markdown",
      "source": [
        "## Mathematical formulation  \n",
        "Let the index for the 3 products be i, where i = Shirt, Shorts, Pants.  \n",
        "Let Sals Price be S, Cost be C, Labour be L, Cloth be F (Fabric), Machine rent cost be M.  \n",
        "Let Profit be P, where P = S - C.  \n",
        "Let the number of each type of product made be x.\n",
        "Let Rent be R, where renting the corresponding machine will be 1, not renting will be 0.   \n",
        "\n",
        "$$\n",
        "\\\\ max ((P_i\\times x_i) - R_i \\times  M_i)  \n",
        "\\\\s.t  \n",
        "\\\\sum(x_i\\times L_i) \\leq 150  \n",
        "\\\\sum(x_i\\times F_i) \\leq 160\n",
        "\\\\ x_i \\geq 0\n",
        "\\\\ R_i = 0~ or~ 1\n",
        "$$"
      ],
      "metadata": {
        "id": "-FXEICliKJpt"
      }
    },
    {
      "cell_type": "markdown",
      "source": [
        "However, as we are noe using binary variables inour problem...   \n",
        "It is natural that we will need to find a way to link our R with production.  \n",
        "To link this 2 up, we usually use the big M method.  \n",
        "Therefore, we have an additional constraint.  \n",
        "$$\n",
        "\\\\x_i \\leq M_i \\times R_i\n",
        "$$  \n",
        "\n",
        "The big M method is used to link the binary variable in this case to the number of each type of products produced.  \n",
        "The idea is simple.  \n",
        "When R is 0, then x, the number of product produced, must be 0.  \n",
        "When R is 1, then R multiplied by big M, will have to be bigger than that type of product produced.  \n",
        "This basically helps to enforce that.  \n",
        "From my personal experience, big M should not be too small, nor should it be too big.  \n",
        "In this case, the max number of any 1 type of product is 160/3=53.3.  \n",
        "So a small big M can be 54.  \n",
        "Why keep big M small?   \n",
        "My guess is to reduce the search space.  "
      ],
      "metadata": {
        "id": "ocAHU0jUV09w"
      }
    },
    {
      "cell_type": "code",
      "execution_count": null,
      "metadata": {
        "id": "EoA_F6WNJ1Or",
        "colab": {
          "base_uri": "https://localhost:8080/"
        },
        "outputId": "8594203a-bdfd-4ac2-97f4-d9e5e5efd94b"
      },
      "outputs": [
        {
          "output_type": "stream",
          "name": "stdout",
          "text": [
            "Requirement already satisfied: pyomo in /usr/local/lib/python3.10/dist-packages (6.6.1)\n",
            "Requirement already satisfied: ply in /usr/local/lib/python3.10/dist-packages (from pyomo) (3.11)\n"
          ]
        }
      ],
      "source": [
        "!pip install pyomo\n",
        "!pip install cplex -q"
      ]
    },
    {
      "cell_type": "code",
      "source": [
        "!apt-get install -y -qq glpk-utils"
      ],
      "metadata": {
        "id": "Jaw-fAUmvaS-"
      },
      "execution_count": null,
      "outputs": []
    },
    {
      "cell_type": "code",
      "source": [
        "import pyomo.environ as pyo\n",
        "from pyomo.opt import SolverFactory"
      ],
      "metadata": {
        "id": "3t0L_rZ2tSGS"
      },
      "execution_count": null,
      "outputs": []
    },
    {
      "cell_type": "code",
      "source": [
        "# Set the index\n",
        "clothes = ['shirt', 'shorts', 'pants']\n",
        "\n",
        "# Set the Parameters\n",
        "sell_price = {'shirt':12, 'shorts':8, 'pants':15}\n",
        "prod_cost = {'shirt':6, 'shorts':4, 'pants':8}\n",
        "labour_hr = {'shirt':3, 'shorts':2, 'pants':6}\n",
        "cloth_used = {'shirt':4, 'shorts':3, 'pants':4}\n",
        "rental_cost = {'shirt':200, 'shorts':150, 'pants':100}\n",
        "\n",
        "# Set the constraints\n",
        "available_labour = 150\n",
        "available_mat = 160\n",
        "\n",
        "# Big M\n",
        "big_M = {cloth: min((available_mat//i, available_labour//j))\n",
        "        for i, j, cloth in\n",
        "         zip(cloth_used.values(), labour_hr.values(), clothes)}\n",
        "big_M"
      ],
      "metadata": {
        "colab": {
          "base_uri": "https://localhost:8080/"
        },
        "id": "ulOc0Wr8tmHE",
        "outputId": "2f7442b0-e41c-4ffe-d327-c4a23de688d9"
      },
      "execution_count": null,
      "outputs": [
        {
          "output_type": "execute_result",
          "data": {
            "text/plain": [
              "{'shirt': 40, 'shorts': 53, 'pants': 25}"
            ]
          },
          "metadata": {},
          "execution_count": 4
        }
      ]
    },
    {
      "cell_type": "code",
      "source": [
        "# Build the model accordingly\n",
        "model = pyo.ConcreteModel()\n",
        "\n",
        "# Create indexing sets\n",
        "model.clothes = pyo.Set(initialize=clothes)\n",
        "cloth_idx = model.clothes\n",
        "\n",
        "# Create the decision varaibles on number of pieces of clothes to make\n",
        "model.num_prod = pyo.Var(cloth_idx, within=pyo.NonNegativeIntegers)\n",
        "num_prod = model.num_prod\n",
        "\n",
        "model.rent = pyo.Var(model.clothes, within=pyo.NonNegativeIntegers)\n",
        "rent = model.rent\n"
      ],
      "metadata": {
        "id": "ODbUCFEOwi4L"
      },
      "execution_count": null,
      "outputs": []
    },
    {
      "cell_type": "code",
      "source": [
        "# Define the model parameters\n",
        "model.sell_price = pyo.Param(cloth_idx, initialize=sell_price)\n",
        "model.prod_cost = pyo.Param(cloth_idx, initialize=prod_cost)\n",
        "model.lab_hr = pyo.Param(cloth_idx, initialize=labour_hr)\n",
        "model.mat_used = pyo.Param(cloth_idx, initialize=cloth_used)\n",
        "model.rent_cost = pyo.Param(cloth_idx, initialize=rental_cost)\n",
        "model.big_M_val = pyo.Param(cloth_idx, initialize=big_M)"
      ],
      "metadata": {
        "id": "h8MqvUcGlhYQ"
      },
      "execution_count": null,
      "outputs": []
    },
    {
      "cell_type": "code",
      "source": [
        "# Objective function\n",
        "def max_profit(model, cloth_idx):\n",
        "  profit = sum(model.num_prod[cloth]*(model.sell_price[cloth] - model.prod_cost[cloth]) for cloth in model.clothes) - sum(model.rent[cloth]*model.rent_cost[cloth] for cloth in model.clothes)\n",
        "  return profit\n",
        "model.obj=pyo.Objective(expr=max_profit, sense=pyo.maximize)"
      ],
      "metadata": {
        "id": "2cgtko28JJLd"
      },
      "execution_count": null,
      "outputs": []
    },
    {
      "cell_type": "code",
      "source": [
        "# Add in labour constriants\n",
        "def labour_const(model, cloth):\n",
        "  return sum(model.lab_hr[cloth] * model.num_prod[cloth] for cloth in model.clothes) <= available_labour\n",
        "model.lab_const = pyo.Constraint(model.clothes, rule=labour_const)\n",
        "\n",
        "# Add in material constraints\n",
        "def material_const(model, cloth):\n",
        "  return sum(model.mat_used[cloth]*model.num_prod[cloth] for cloth in model.clothes) <= available_mat\n",
        "model.mat_const = pyo.Constraint(model.clothes, rule=material_const)\n",
        "\n",
        "# Add in big M constraints\n",
        "def big_M_const(model, cloth):\n",
        "  return model.num_prod[cloth] <= model.big_M_val[cloth] * model.rent[cloth]\n",
        "model.big_M_const = pyo.ConstraintList()\n",
        "for cloth in model.clothes:\n",
        "  model.big_M_const.add(\n",
        "      expr=big_M_const(model, cloth)\n",
        "  )"
      ],
      "metadata": {
        "id": "ABYrFKIKof9E"
      },
      "execution_count": null,
      "outputs": []
    },
    {
      "cell_type": "code",
      "source": [
        "Solver = SolverFactory('cplex_direct')\n",
        "results =Solver.solve(model)\n",
        "\n",
        "print(results)"
      ],
      "metadata": {
        "colab": {
          "base_uri": "https://localhost:8080/"
        },
        "id": "u6d3mfH1svjZ",
        "outputId": "c381f7db-d65d-4f88-94df-da5bd282ab9e"
      },
      "execution_count": null,
      "outputs": [
        {
          "output_type": "stream",
          "name": "stdout",
          "text": [
            "\n",
            "Problem: \n",
            "- Name: \n",
            "  Lower bound: 75.00000000000031\n",
            "  Upper bound: 75.00000000000031\n",
            "  Number of objectives: 1\n",
            "  Number of constraints: 9\n",
            "  Number of variables: 6\n",
            "  Number of binary variables: 0\n",
            "  Number of integer variables: 6\n",
            "  Number of continuous variables: 0\n",
            "  Number of nonzeros: None\n",
            "  Sense: -1\n",
            "Solver: \n",
            "- Name: CPLEX 22.1.1.0\n",
            "  Status: ok\n",
            "  Wallclock time: 0.04101061820983887\n",
            "  Termination condition: optimal\n",
            "Solution: \n",
            "- number of solutions: 0\n",
            "  number of solutions displayed: 0\n",
            "\n"
          ]
        }
      ]
    },
    {
      "cell_type": "code",
      "source": [
        "print('Objective func = ', model.obj())"
      ],
      "metadata": {
        "colab": {
          "base_uri": "https://localhost:8080/"
        },
        "id": "aiP2m3XZuJiQ",
        "outputId": "1124bc87-6434-4d60-8907-7bd4fa42eb2f"
      },
      "execution_count": null,
      "outputs": [
        {
          "output_type": "stream",
          "name": "stdout",
          "text": [
            "Objective func =  75.00000000000031\n"
          ]
        }
      ]
    },
    {
      "cell_type": "code",
      "source": [
        "for cloth in model.clothes:\n",
        "  print(f\"{model.num_prod[cloth]()} pieces of {cloth} should be produced\")"
      ],
      "metadata": {
        "colab": {
          "base_uri": "https://localhost:8080/"
        },
        "id": "UdySw56Juv8r",
        "outputId": "c608c0d4-c704-42c3-8ae0-84ada0641b82"
      },
      "execution_count": null,
      "outputs": [
        {
          "output_type": "stream",
          "name": "stdout",
          "text": [
            "0.0 pieces of shirt should be produced\n",
            "1.2789769243681803e-13 pieces of shorts should be produced\n",
            "24.999999999999947 pieces of pants should be produced\n"
          ]
        }
      ]
    },
    {
      "cell_type": "code",
      "source": [
        "Solver_glpk = SolverFactory('glpk')\n",
        "results_glpk =Solver_glpk.solve(model)\n",
        "\n",
        "print(results_glpk)\n",
        "\n",
        "print('Objective func = ', model.obj())\n",
        "\n",
        "for cloth in model.clothes:\n",
        "  print(f\"{model.num_prod[cloth]()} pieces of {cloth} should be produced\")"
      ],
      "metadata": {
        "colab": {
          "base_uri": "https://localhost:8080/"
        },
        "id": "NBakyX8PvF08",
        "outputId": "c6c9347a-8655-47c7-a4fc-ed9003d8ba86"
      },
      "execution_count": null,
      "outputs": [
        {
          "output_type": "stream",
          "name": "stdout",
          "text": [
            "\n",
            "Problem: \n",
            "- Name: unknown\n",
            "  Lower bound: 75.0\n",
            "  Upper bound: 75.0\n",
            "  Number of objectives: 1\n",
            "  Number of constraints: 9\n",
            "  Number of variables: 6\n",
            "  Number of nonzeros: 24\n",
            "  Sense: maximize\n",
            "Solver: \n",
            "- Status: ok\n",
            "  Termination condition: optimal\n",
            "  Statistics: \n",
            "    Branch and bound: \n",
            "      Number of bounded subproblems: 3\n",
            "      Number of created subproblems: 3\n",
            "  Error rc: 0\n",
            "  Time: 0.006719350814819336\n",
            "Solution: \n",
            "- number of solutions: 0\n",
            "  number of solutions displayed: 0\n",
            "\n",
            "Objective func =  75.0\n",
            "0.0 pieces of shirt should be produced\n",
            "0.0 pieces of shorts should be produced\n",
            "25.0 pieces of pants should be produced\n"
          ]
        }
      ]
    },
    {
      "cell_type": "code",
      "source": [],
      "metadata": {
        "id": "LpCJ2i2HvwQf"
      },
      "execution_count": null,
      "outputs": []
    }
  ]
}
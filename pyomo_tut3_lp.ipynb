{
  "nbformat": 4,
  "nbformat_minor": 0,
  "metadata": {
    "colab": {
      "provenance": [],
      "authorship_tag": "ABX9TyNhr0UMdbVQ9/q3UJ3gVH5b",
      "include_colab_link": true
    },
    "kernelspec": {
      "name": "python3",
      "display_name": "Python 3"
    },
    "language_info": {
      "name": "python"
    }
  },
  "cells": [
    {
      "cell_type": "markdown",
      "metadata": {
        "id": "view-in-github",
        "colab_type": "text"
      },
      "source": [
        "<a href=\"https://colab.research.google.com/github/Luke-zm/coursera_learning/blob/main/pyomo_tut3_lp.ipynb\" target=\"_parent\"><img src=\"https://colab.research.google.com/assets/colab-badge.svg\" alt=\"Open In Colab\"/></a>"
      ]
    },
    {
      "cell_type": "code",
      "execution_count": 1,
      "metadata": {
        "colab": {
          "base_uri": "https://localhost:8080/"
        },
        "id": "GmrWU6IHjXWM",
        "outputId": "bdbf2ac5-1c8d-4d55-9d28-38a0ea5d5133"
      },
      "outputs": [
        {
          "output_type": "stream",
          "name": "stdout",
          "text": [
            "Collecting pyomo\n",
            "  Downloading Pyomo-6.6.1-cp310-cp310-manylinux_2_17_x86_64.manylinux2014_x86_64.whl (11.9 MB)\n",
            "\u001b[2K     \u001b[90m━━━━━━━━━━━━━━━━━━━━━━━━━━━━━━━━━━━━━━━━\u001b[0m \u001b[32m11.9/11.9 MB\u001b[0m \u001b[31m25.3 MB/s\u001b[0m eta \u001b[36m0:00:00\u001b[0m\n",
            "\u001b[?25hCollecting ply (from pyomo)\n",
            "  Downloading ply-3.11-py2.py3-none-any.whl (49 kB)\n",
            "\u001b[2K     \u001b[90m━━━━━━━━━━━━━━━━━━━━━━━━━━━━━━━━━━━━━━━━\u001b[0m \u001b[32m49.6/49.6 kB\u001b[0m \u001b[31m4.5 MB/s\u001b[0m eta \u001b[36m0:00:00\u001b[0m\n",
            "\u001b[?25hInstalling collected packages: ply, pyomo\n",
            "Successfully installed ply-3.11 pyomo-6.6.1\n",
            "Selecting previously unselected package libsuitesparseconfig5:amd64.\n",
            "(Reading database ... 120831 files and directories currently installed.)\n",
            "Preparing to unpack .../libsuitesparseconfig5_1%3a5.10.1+dfsg-4build1_amd64.deb ...\n",
            "Unpacking libsuitesparseconfig5:amd64 (1:5.10.1+dfsg-4build1) ...\n",
            "Selecting previously unselected package libamd2:amd64.\n",
            "Preparing to unpack .../libamd2_1%3a5.10.1+dfsg-4build1_amd64.deb ...\n",
            "Unpacking libamd2:amd64 (1:5.10.1+dfsg-4build1) ...\n",
            "Selecting previously unselected package libcolamd2:amd64.\n",
            "Preparing to unpack .../libcolamd2_1%3a5.10.1+dfsg-4build1_amd64.deb ...\n",
            "Unpacking libcolamd2:amd64 (1:5.10.1+dfsg-4build1) ...\n",
            "Selecting previously unselected package libglpk40:amd64.\n",
            "Preparing to unpack .../libglpk40_5.0-1_amd64.deb ...\n",
            "Unpacking libglpk40:amd64 (5.0-1) ...\n",
            "Selecting previously unselected package glpk-utils.\n",
            "Preparing to unpack .../glpk-utils_5.0-1_amd64.deb ...\n",
            "Unpacking glpk-utils (5.0-1) ...\n",
            "Setting up libsuitesparseconfig5:amd64 (1:5.10.1+dfsg-4build1) ...\n",
            "Setting up libamd2:amd64 (1:5.10.1+dfsg-4build1) ...\n",
            "Setting up libcolamd2:amd64 (1:5.10.1+dfsg-4build1) ...\n",
            "Setting up libglpk40:amd64 (5.0-1) ...\n",
            "Setting up glpk-utils (5.0-1) ...\n",
            "Processing triggers for man-db (2.10.2-1) ...\n",
            "Processing triggers for libc-bin (2.35-0ubuntu3.1) ...\n",
            "/sbin/ldconfig.real: /usr/local/lib/libtbbbind_2_5.so.3 is not a symbolic link\n",
            "\n",
            "/sbin/ldconfig.real: /usr/local/lib/libtbbbind.so.3 is not a symbolic link\n",
            "\n",
            "/sbin/ldconfig.real: /usr/local/lib/libtbbmalloc.so.2 is not a symbolic link\n",
            "\n",
            "/sbin/ldconfig.real: /usr/local/lib/libtbbmalloc_proxy.so.2 is not a symbolic link\n",
            "\n",
            "/sbin/ldconfig.real: /usr/local/lib/libtbbbind_2_0.so.3 is not a symbolic link\n",
            "\n",
            "/sbin/ldconfig.real: /usr/local/lib/libtbb.so.12 is not a symbolic link\n",
            "\n"
          ]
        }
      ],
      "source": [
        "# For colab, install the necessary kits\n",
        "!pip install pyomo\n",
        "!apt-get install -y -qq glpk-utils"
      ]
    },
    {
      "cell_type": "markdown",
      "source": [
        "Powerco has 3 electric power plants that supply the needs of 4 cities. Each power plant can supply the following numbers of kWh of electricity.   \n",
        "Plant 1 -- 35 million;  \n",
        "Plant 2 -- 50 million;  \n",
        "Plant 3 -- 40 million;  \n",
        "The peak power demands in these cities are:\n",
        "City 1 -- 45 million;  \n",
        "City 2 -- 20 million;  \n",
        "City 3 -- 30 million;  \n",
        "City 4 -- 30 million;  \n",
        "The cost of sending 1 million kWh of electricity from plant to city can be found below.  Formulate LP to minimize the cost of meeting each city's peak power demand.  \n",
        "|      | TO |   |   |   | Supply  |  \n",
        "|------|----|---|---|---|---|  \n",
        "|   From|  city 1  |  city 2 | city 3  | city 4  |(Million kWh)|  \n",
        "|Plant 1|  $8      |  $6     |  $10    |  $9     |   35        |   \n",
        "|Plant 2|  $9      |  $12    |  $13    |  $7     |   50        |   \n",
        "|Plant 3|  $14     |  $9     |  $16    |  $5     |   40        |   \n",
        "|Demand |  45      |  20     |  30     |  30     |             |   "
      ],
      "metadata": {
        "id": "JqMIM4dFnX1t"
      }
    },
    {
      "cell_type": "markdown",
      "source": [
        "First, decide on the decision variables for the problems.  \n",
        "The decision vraibles are the power to each city from each plant.  \n",
        "There need to be 2 sets of indices. 1 set representing the plant, the other representing the cities.  \n",
        "Let E be the ammount of energy in million kWh.  \n",
        "Let C be the cost of sending the energy in dollars.\n",
        "Let p be the index for power plants.\n",
        "Let c be the index for cities.\n",
        "$$  \n",
        "\\\\p = \\{1, 2, 3\\}  \n",
        "\\\\c = \\{1, 2, 3, 4 \\}  \n",
        "\\\\obj:~~~~min~sum(E_{p,c} \\times C_{c,p})\n",
        "\\\\s.t:\n",
        "\\\\sum(E_{1,c})\\leq35\n",
        "\\\\sum(E_{2,c})\\leq50\n",
        "\\\\sum(E_{3,c})\\leq40\n",
        "\\\\sum(E_{p,1})\\geq45\n",
        "\\\\sum(E_{p,2})\\geq20\n",
        "\\\\sum(E_{p,3})\\geq30\n",
        "\\\\sum(E_{p,4})\\geq30\n",
        "\\\\E_{p,c}\\geq0\n",
        "$$  "
      ],
      "metadata": {
        "id": "p0M0ld0uq0Q9"
      }
    },
    {
      "cell_type": "code",
      "source": [
        "# Import the tools\n",
        "import pyomo.environ as pyo\n",
        "from pyomo.opt import SolverFactory"
      ],
      "metadata": {
        "id": "OlGQ8OcanV0c"
      },
      "execution_count": 2,
      "outputs": []
    },
    {
      "cell_type": "code",
      "source": [
        "from pyomo.core.base import initializer\n",
        "# Create the model\n",
        "model = pyo.ConcreteModel()\n",
        "\n",
        "# Create the sets for indicies\n",
        "# Index for power plants\n",
        "model.p = pyo.Set(initialize=['Plant1', 'Plant2', 'Plant3'])\n",
        "# Index for cities\n",
        "model.c = pyo.Set(initialize=['City1', 'City2', 'City3', 'City4'])"
      ],
      "metadata": {
        "id": "HI4ZBYrbj1HB"
      },
      "execution_count": 3,
      "outputs": []
    },
    {
      "cell_type": "code",
      "source": [
        "# Create the parameters, parameters are stuff that should be fixed\n",
        "# for the duration of the calculation by optimisation\n",
        "model.energy = pyo.Param()\n",
        "\n",
        "# Define the limit for the ammount of energy each plant can produce, this is a parameter\n",
        "plant_cap_dict = {'Plant1':35, 'Plant2':50, 'Plant3':40}\n",
        "model.plant_cap = pyo.Param(model.p, initialize=plant_cap_dict)\n",
        "plant_cap = model.plant_cap\n",
        "\n",
        "# Define the ammount of energy each city will require, this is a parameter.\n",
        "city_demand_dict = {'City1':45, 'City2':20, 'City3':30, 'City4':30}\n",
        "model.city_demand = pyo.Param(model.c, initialize=city_demand_dict)\n",
        "city_demand = model.city_demand\n",
        "\n",
        "# Define the cost of sending energy from plant to city.\n",
        "# Index needed is both p and c\n",
        "price_dict = {\n",
        "    ('Plant1', 'City1'):8,\n",
        "    ('Plant1', 'City2'):8,\n",
        "    ('Plant1', 'City3'):8,\n",
        "    ('Plant1', 'City4'):8,\n",
        "    ('Plant2', 'City1'):8,\n",
        "    ('Plant2', 'City2'):8,\n",
        "    ('Plant2', 'City3'):8,\n",
        "    ('Plant2', 'City4'):8,\n",
        "    ('Plant3', 'City1'):8,\n",
        "    ('Plant3', 'City2'):8,\n",
        "    ('Plant3', 'City3'):8,\n",
        "    ('Plant3', 'City4'):8\n",
        "}\n",
        "model.price = pyo.Param(model.p, model.c, initialize=price_dict)"
      ],
      "metadata": {
        "id": "_YUU5rcdzqaN"
      },
      "execution_count": null,
      "outputs": []
    }
  ]
}
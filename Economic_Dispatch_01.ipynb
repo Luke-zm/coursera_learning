{
  "nbformat": 4,
  "nbformat_minor": 0,
  "metadata": {
    "colab": {
      "provenance": [],
      "authorship_tag": "ABX9TyOTqTOLNkPk7byM7Rn0XVhX",
      "include_colab_link": true
    },
    "kernelspec": {
      "name": "python3",
      "display_name": "Python 3"
    },
    "language_info": {
      "name": "python"
    }
  },
  "cells": [
    {
      "cell_type": "markdown",
      "metadata": {
        "id": "view-in-github",
        "colab_type": "text"
      },
      "source": [
        "<a href=\"https://colab.research.google.com/github/Luke-zm/coursera_learning/blob/main/Economic_Dispatch_01.ipynb\" target=\"_parent\"><img src=\"https://colab.research.google.com/assets/colab-badge.svg\" alt=\"Open In Colab\"/></a>"
      ]
    },
    {
      "cell_type": "code",
      "execution_count": null,
      "metadata": {
        "colab": {
          "base_uri": "https://localhost:8080/"
        },
        "id": "Ia5P3PcmpFJJ",
        "outputId": "0a5bff22-9e8d-46c6-aab1-deace8c757b1"
      },
      "outputs": [
        {
          "output_type": "stream",
          "name": "stdout",
          "text": [
            "Requirement already satisfied: pyomo in /usr/local/lib/python3.10/dist-packages (6.6.1)\n",
            "Requirement already satisfied: ply in /usr/local/lib/python3.10/dist-packages (from pyomo) (3.11)\n",
            "Reading package lists... Done\n",
            "Building dependency tree... Done\n",
            "Reading state information... Done\n",
            "coinor-libipopt-dev is already the newest version (3.11.9-2.2build5).\n",
            "0 upgraded, 0 newly installed, 0 to remove and 16 not upgraded.\n",
            "Requirement already satisfied: ipopt in /usr/local/lib/python3.10/dist-packages (1.0.3)\n",
            "Requirement already satisfied: cython>=0.26 in /usr/local/lib/python3.10/dist-packages (from ipopt) (0.29.36)\n",
            "Requirement already satisfied: future>=0.15 in /usr/local/lib/python3.10/dist-packages (from ipopt) (0.18.3)\n",
            "Requirement already satisfied: numpy>=1.15 in /usr/local/lib/python3.10/dist-packages (from ipopt) (1.23.5)\n",
            "Requirement already satisfied: setuptools>=39.0 in /usr/local/lib/python3.10/dist-packages (from ipopt) (67.7.2)\n",
            "Requirement already satisfied: six>=1.11 in /usr/local/lib/python3.10/dist-packages (from ipopt) (1.16.0)\n"
          ]
        }
      ],
      "source": [
        "# For colab, install the necessary kits\n",
        "!pip install pyomo\n",
        "!apt-get install -y -qq glpk-utils\n",
        "!apt install coinor-libipopt-dev\n",
        "# !apt install coinor-libipopt-dev\n",
        "# !pip install ipopt\n",
        "!pip install ipopt\n",
        "!wget -N -q \"https://matematica.unipv.it/gualandi/solvers/ipopt-linux64.zip\"\n",
        "!unzip -o -q ipopt-linux64\n"
      ]
    },
    {
      "cell_type": "code",
      "source": [
        "# Import the solver tools\n",
        "import pyomo.environ as pyo\n",
        "from pyomo.opt import SolverFactory\n",
        "\n",
        "# Import the processing tool\n",
        "import matplotlib.pyplot as plt\n",
        "import numpy as np\n",
        "import pandas as pd"
      ],
      "metadata": {
        "id": "FUJemYT06hBh"
      },
      "execution_count": null,
      "outputs": []
    },
    {
      "cell_type": "code",
      "source": [
        "# Note: This is an econmic dispatch problem\n",
        "# For all generating units, there will be an input output curve...\n",
        "# This curve is approximated by:\n",
        "# fuel_cost = alpha*Power_gen**2 + beta*power_gen + gamma\n",
        "# This a quadratic function\n",
        "\n",
        "# Below is the table of such an equation\n",
        "generation_dict = {\"generator\": ['G1', 'G2', 'G3', 'G4', 'G5'],\n",
        "                   \"a\": [3.00, 4.05, 4.05, 3.99, 3.88],\n",
        "                   \"b\": [20.00, 18.07, 15.55, 19.21, 26.18],\n",
        "                   \"c\": [100.00, 98.87, 104.26, 107.21, 95.31],\n",
        "                   \"pmin\": [28, 90, 68, 76, 19],\n",
        "                   \"pmax\": [206, 284, 189, 266, 53]}\n",
        "generation_df = pd.DataFrame(generation_dict)\n",
        "generation_df"
      ],
      "metadata": {
        "colab": {
          "base_uri": "https://localhost:8080/",
          "height": 206
        },
        "id": "_hct8Z1S5TFB",
        "outputId": "79918c98-0940-48d9-865a-2caa111ce09a"
      },
      "execution_count": null,
      "outputs": [
        {
          "output_type": "execute_result",
          "data": {
            "text/plain": [
              "  generator     a      b       c  pmin  pmax\n",
              "0        G1  3.00  20.00  100.00    28   206\n",
              "1        G2  4.05  18.07   98.87    90   284\n",
              "2        G3  4.05  15.55  104.26    68   189\n",
              "3        G4  3.99  19.21  107.21    76   266\n",
              "4        G5  3.88  26.18   95.31    19    53"
            ],
            "text/html": [
              "\n",
              "  <div id=\"df-ccce9781-adf5-479b-bfe5-4184c7ed0472\" class=\"colab-df-container\">\n",
              "    <div>\n",
              "<style scoped>\n",
              "    .dataframe tbody tr th:only-of-type {\n",
              "        vertical-align: middle;\n",
              "    }\n",
              "\n",
              "    .dataframe tbody tr th {\n",
              "        vertical-align: top;\n",
              "    }\n",
              "\n",
              "    .dataframe thead th {\n",
              "        text-align: right;\n",
              "    }\n",
              "</style>\n",
              "<table border=\"1\" class=\"dataframe\">\n",
              "  <thead>\n",
              "    <tr style=\"text-align: right;\">\n",
              "      <th></th>\n",
              "      <th>generator</th>\n",
              "      <th>a</th>\n",
              "      <th>b</th>\n",
              "      <th>c</th>\n",
              "      <th>pmin</th>\n",
              "      <th>pmax</th>\n",
              "    </tr>\n",
              "  </thead>\n",
              "  <tbody>\n",
              "    <tr>\n",
              "      <th>0</th>\n",
              "      <td>G1</td>\n",
              "      <td>3.00</td>\n",
              "      <td>20.00</td>\n",
              "      <td>100.00</td>\n",
              "      <td>28</td>\n",
              "      <td>206</td>\n",
              "    </tr>\n",
              "    <tr>\n",
              "      <th>1</th>\n",
              "      <td>G2</td>\n",
              "      <td>4.05</td>\n",
              "      <td>18.07</td>\n",
              "      <td>98.87</td>\n",
              "      <td>90</td>\n",
              "      <td>284</td>\n",
              "    </tr>\n",
              "    <tr>\n",
              "      <th>2</th>\n",
              "      <td>G3</td>\n",
              "      <td>4.05</td>\n",
              "      <td>15.55</td>\n",
              "      <td>104.26</td>\n",
              "      <td>68</td>\n",
              "      <td>189</td>\n",
              "    </tr>\n",
              "    <tr>\n",
              "      <th>3</th>\n",
              "      <td>G4</td>\n",
              "      <td>3.99</td>\n",
              "      <td>19.21</td>\n",
              "      <td>107.21</td>\n",
              "      <td>76</td>\n",
              "      <td>266</td>\n",
              "    </tr>\n",
              "    <tr>\n",
              "      <th>4</th>\n",
              "      <td>G5</td>\n",
              "      <td>3.88</td>\n",
              "      <td>26.18</td>\n",
              "      <td>95.31</td>\n",
              "      <td>19</td>\n",
              "      <td>53</td>\n",
              "    </tr>\n",
              "  </tbody>\n",
              "</table>\n",
              "</div>\n",
              "    <div class=\"colab-df-buttons\">\n",
              "\n",
              "  <div class=\"colab-df-container\">\n",
              "    <button class=\"colab-df-convert\" onclick=\"convertToInteractive('df-ccce9781-adf5-479b-bfe5-4184c7ed0472')\"\n",
              "            title=\"Convert this dataframe to an interactive table.\"\n",
              "            style=\"display:none;\">\n",
              "\n",
              "  <svg xmlns=\"http://www.w3.org/2000/svg\" height=\"24px\" viewBox=\"0 -960 960 960\">\n",
              "    <path d=\"M120-120v-720h720v720H120Zm60-500h600v-160H180v160Zm220 220h160v-160H400v160Zm0 220h160v-160H400v160ZM180-400h160v-160H180v160Zm440 0h160v-160H620v160ZM180-180h160v-160H180v160Zm440 0h160v-160H620v160Z\"/>\n",
              "  </svg>\n",
              "    </button>\n",
              "\n",
              "  <style>\n",
              "    .colab-df-container {\n",
              "      display:flex;\n",
              "      gap: 12px;\n",
              "    }\n",
              "\n",
              "    .colab-df-convert {\n",
              "      background-color: #E8F0FE;\n",
              "      border: none;\n",
              "      border-radius: 50%;\n",
              "      cursor: pointer;\n",
              "      display: none;\n",
              "      fill: #1967D2;\n",
              "      height: 32px;\n",
              "      padding: 0 0 0 0;\n",
              "      width: 32px;\n",
              "    }\n",
              "\n",
              "    .colab-df-convert:hover {\n",
              "      background-color: #E2EBFA;\n",
              "      box-shadow: 0px 1px 2px rgba(60, 64, 67, 0.3), 0px 1px 3px 1px rgba(60, 64, 67, 0.15);\n",
              "      fill: #174EA6;\n",
              "    }\n",
              "\n",
              "    .colab-df-buttons div {\n",
              "      margin-bottom: 4px;\n",
              "    }\n",
              "\n",
              "    [theme=dark] .colab-df-convert {\n",
              "      background-color: #3B4455;\n",
              "      fill: #D2E3FC;\n",
              "    }\n",
              "\n",
              "    [theme=dark] .colab-df-convert:hover {\n",
              "      background-color: #434B5C;\n",
              "      box-shadow: 0px 1px 3px 1px rgba(0, 0, 0, 0.15);\n",
              "      filter: drop-shadow(0px 1px 2px rgba(0, 0, 0, 0.3));\n",
              "      fill: #FFFFFF;\n",
              "    }\n",
              "  </style>\n",
              "\n",
              "    <script>\n",
              "      const buttonEl =\n",
              "        document.querySelector('#df-ccce9781-adf5-479b-bfe5-4184c7ed0472 button.colab-df-convert');\n",
              "      buttonEl.style.display =\n",
              "        google.colab.kernel.accessAllowed ? 'block' : 'none';\n",
              "\n",
              "      async function convertToInteractive(key) {\n",
              "        const element = document.querySelector('#df-ccce9781-adf5-479b-bfe5-4184c7ed0472');\n",
              "        const dataTable =\n",
              "          await google.colab.kernel.invokeFunction('convertToInteractive',\n",
              "                                                    [key], {});\n",
              "        if (!dataTable) return;\n",
              "\n",
              "        const docLinkHtml = 'Like what you see? Visit the ' +\n",
              "          '<a target=\"_blank\" href=https://colab.research.google.com/notebooks/data_table.ipynb>data table notebook</a>'\n",
              "          + ' to learn more about interactive tables.';\n",
              "        element.innerHTML = '';\n",
              "        dataTable['output_type'] = 'display_data';\n",
              "        await google.colab.output.renderOutput(dataTable, element);\n",
              "        const docLink = document.createElement('div');\n",
              "        docLink.innerHTML = docLinkHtml;\n",
              "        element.appendChild(docLink);\n",
              "      }\n",
              "    </script>\n",
              "  </div>\n",
              "\n",
              "\n",
              "<div id=\"df-7b364b2f-8c4b-4a50-b76b-bde4d8d56661\">\n",
              "  <button class=\"colab-df-quickchart\" onclick=\"quickchart('df-7b364b2f-8c4b-4a50-b76b-bde4d8d56661')\"\n",
              "            title=\"Suggest charts.\"\n",
              "            style=\"display:none;\">\n",
              "\n",
              "<svg xmlns=\"http://www.w3.org/2000/svg\" height=\"24px\"viewBox=\"0 0 24 24\"\n",
              "     width=\"24px\">\n",
              "    <g>\n",
              "        <path d=\"M19 3H5c-1.1 0-2 .9-2 2v14c0 1.1.9 2 2 2h14c1.1 0 2-.9 2-2V5c0-1.1-.9-2-2-2zM9 17H7v-7h2v7zm4 0h-2V7h2v10zm4 0h-2v-4h2v4z\"/>\n",
              "    </g>\n",
              "</svg>\n",
              "  </button>\n",
              "\n",
              "<style>\n",
              "  .colab-df-quickchart {\n",
              "    background-color: #E8F0FE;\n",
              "    border: none;\n",
              "    border-radius: 50%;\n",
              "    cursor: pointer;\n",
              "    display: none;\n",
              "    fill: #1967D2;\n",
              "    height: 32px;\n",
              "    padding: 0 0 0 0;\n",
              "    width: 32px;\n",
              "  }\n",
              "\n",
              "  .colab-df-quickchart:hover {\n",
              "    background-color: #E2EBFA;\n",
              "    box-shadow: 0px 1px 2px rgba(60, 64, 67, 0.3), 0px 1px 3px 1px rgba(60, 64, 67, 0.15);\n",
              "    fill: #174EA6;\n",
              "  }\n",
              "\n",
              "  [theme=dark] .colab-df-quickchart {\n",
              "    background-color: #3B4455;\n",
              "    fill: #D2E3FC;\n",
              "  }\n",
              "\n",
              "  [theme=dark] .colab-df-quickchart:hover {\n",
              "    background-color: #434B5C;\n",
              "    box-shadow: 0px 1px 3px 1px rgba(0, 0, 0, 0.15);\n",
              "    filter: drop-shadow(0px 1px 2px rgba(0, 0, 0, 0.3));\n",
              "    fill: #FFFFFF;\n",
              "  }\n",
              "</style>\n",
              "\n",
              "  <script>\n",
              "    async function quickchart(key) {\n",
              "      const charts = await google.colab.kernel.invokeFunction(\n",
              "          'suggestCharts', [key], {});\n",
              "    }\n",
              "    (() => {\n",
              "      let quickchartButtonEl =\n",
              "        document.querySelector('#df-7b364b2f-8c4b-4a50-b76b-bde4d8d56661 button');\n",
              "      quickchartButtonEl.style.display =\n",
              "        google.colab.kernel.accessAllowed ? 'block' : 'none';\n",
              "    })();\n",
              "  </script>\n",
              "</div>\n",
              "    </div>\n",
              "  </div>\n"
            ]
          },
          "metadata": {},
          "execution_count": 3
        }
      ]
    },
    {
      "cell_type": "markdown",
      "source": [
        "Economic dispatch problem:  \n",
        "$$  \n",
        "\\\\min_{DV} \\sum_g a_g \\times P_g^2 + b_g \\times P_g + c_g    \n",
        "\\\\subject~to:~    \n",
        "\\\\ \\sum_g P_g \\geq Load   \n",
        "\\\\ P_g^{min} \\leq P_g \\leq P_g^{max}    \n",
        "$$"
      ],
      "metadata": {
        "id": "JcToHZoO8ZKX"
      }
    },
    {
      "cell_type": "code",
      "source": [
        "# Prepare the model\n",
        "# Initialize an AbstractModel()\n",
        "model = pyo.AbstractModel()\n",
        "# Initialize the indices\n",
        "model.g = pyo.Set(initialize=['G1', 'G2', 'G3', 'G4', 'G5'])\n",
        "# model.g = pyo.RangeSet(len(generation_df[\"generator\"]))"
      ],
      "metadata": {
        "id": "idtVbQLd8WO7"
      },
      "execution_count": null,
      "outputs": []
    },
    {
      "cell_type": "code",
      "source": [
        "model.g"
      ],
      "metadata": {
        "colab": {
          "base_uri": "https://localhost:8080/"
        },
        "id": "n8ITu4gsA5Xp",
        "outputId": "5b401d64-c526-4a91-bc98-03f6e5471d8e"
      },
      "execution_count": null,
      "outputs": [
        {
          "output_type": "execute_result",
          "data": {
            "text/plain": [
              "<pyomo.core.base.set.AbstractOrderedScalarSet at 0x7e15fd4c8970>"
            ]
          },
          "metadata": {},
          "execution_count": 5
        }
      ]
    },
    {
      "cell_type": "code",
      "source": [
        "generation_df.loc[generation_df['generator']=='G1','pmin']"
      ],
      "metadata": {
        "colab": {
          "base_uri": "https://localhost:8080/"
        },
        "id": "nzvT2tF0_5r5",
        "outputId": "9af114cd-15d0-47de-acd3-ad14004eb699"
      },
      "execution_count": null,
      "outputs": [
        {
          "output_type": "execute_result",
          "data": {
            "text/plain": [
              "0    28\n",
              "Name: pmin, dtype: int64"
            ]
          },
          "metadata": {},
          "execution_count": 6
        }
      ]
    },
    {
      "cell_type": "code",
      "source": [
        "# The model need to create different upper and lower bounds for Pg\n",
        "# For this purpose, a function is needed\n",
        "# All functions pyomo need to have model object passed in\n",
        "# since that is where things are being defined\n",
        "def bound_Pg(model, g):\n",
        "  pmin = generation_df.loc[generation_df['generator']==g,'pmin']\n",
        "  pmax = generation_df.loc[generation_df['generator']==g,'pmax']\n",
        "  return (float(pmin), float(pmax))\n",
        "# Initialize the Variable Pg with dynamic bounds using the above function\n",
        "model.Pg = pyo.Var(model.g, bounds=bound_Pg, initialize=0, within=pyo.NonNegativeReals)"
      ],
      "metadata": {
        "id": "dKlkEEbV-lPt"
      },
      "execution_count": null,
      "outputs": []
    },
    {
      "cell_type": "code",
      "source": [
        "# Define the loads\n",
        "# This is a parameter and the demand is considered to be 300 MW\n",
        "model.Load = pyo.Param(initialize=300, within=pyo.NonNegativeReals)"
      ],
      "metadata": {
        "id": "VUKWceBXCQ4H"
      },
      "execution_count": null,
      "outputs": []
    },
    {
      "cell_type": "code",
      "source": [
        "# Define the constraints for economic dispatch\n",
        "\n",
        "# Define a function for the economic dispatch\n",
        "def power_balance(model, g):\n",
        "  return sum(model.Pg[g] for g in model.g) >= model.Load\n",
        "model.power_balance = pyo.Constraint(rule=power_balance)"
      ],
      "metadata": {
        "id": "sTiAQ4i8CrY4"
      },
      "execution_count": null,
      "outputs": []
    },
    {
      "cell_type": "code",
      "source": [
        "type(generation_df.loc[generation_df['generator']=='G1','a'])"
      ],
      "metadata": {
        "colab": {
          "base_uri": "https://localhost:8080/"
        },
        "id": "gAa83GTKOm30",
        "outputId": "16cac0c2-5ddf-408b-a646-9a65d992a37b"
      },
      "execution_count": null,
      "outputs": [
        {
          "output_type": "execute_result",
          "data": {
            "text/plain": [
              "pandas.core.series.Series"
            ]
          },
          "metadata": {},
          "execution_count": 10
        }
      ]
    },
    {
      "cell_type": "code",
      "source": [
        "# Define the objective function\n",
        "def objective_func(model):\n",
        "  return sum(float(generation_df.loc[generation_df['generator']=='G1','a']) * model.Pg[g] * model.Pg[g] +\n",
        "             float(generation_df.loc[generation_df['generator']=='G1','b']) * model.Pg[g] +\n",
        "             float(generation_df.loc[generation_df['generator']=='G1','c']) for g in model.g)\n",
        "\n",
        "# Use the objective function\n",
        "model.objective_func = pyo.Objective(rule=objective_func, sense=pyo.minimize)"
      ],
      "metadata": {
        "id": "u_A5A7AtORtg"
      },
      "execution_count": null,
      "outputs": []
    },
    {
      "cell_type": "code",
      "source": [],
      "metadata": {
        "id": "LDMAiMMWQ_Di"
      },
      "execution_count": null,
      "outputs": []
    },
    {
      "cell_type": "code",
      "source": [
        "result = SolverFactory('ipopt')\n",
        "instance = model.create_instance()\n",
        "results = result.solve(instance)"
      ],
      "metadata": {
        "colab": {
          "base_uri": "https://localhost:8080/"
        },
        "id": "swFu0EAKPh2g",
        "outputId": "3844f08b-ef71-4459-c39c-9dc13972569f"
      },
      "execution_count": null,
      "outputs": [
        {
          "output_type": "stream",
          "name": "stderr",
          "text": [
            "WARNING:pyomo.core:Setting Var 'Pg[G1]' to a numeric value `0` outside the bounds (28.0, 206.0).\n",
            "WARNING:pyomo.core:Setting Var 'Pg[G1]' to a numeric value `0` outside the bounds (28.0, 206.0).\n",
            "WARNING:pyomo.core:Setting Var 'Pg[G2]' to a numeric value `0` outside the bounds (90.0, 284.0).\n",
            "WARNING:pyomo.core:Setting Var 'Pg[G3]' to a numeric value `0` outside the bounds (68.0, 189.0).\n",
            "WARNING:pyomo.core:Setting Var 'Pg[G4]' to a numeric value `0` outside the bounds (76.0, 266.0).\n",
            "WARNING:pyomo.core:Setting Var 'Pg[G5]' to a numeric value `0` outside the bounds (19.0, 53.0).\n"
          ]
        }
      ]
    },
    {
      "cell_type": "code",
      "source": [
        "results.write()"
      ],
      "metadata": {
        "colab": {
          "base_uri": "https://localhost:8080/"
        },
        "id": "ja0ckZOsP04o",
        "outputId": "d8df9be1-36f5-4b92-81f7-2cb693c204cd"
      },
      "execution_count": null,
      "outputs": [
        {
          "output_type": "stream",
          "name": "stdout",
          "text": [
            "# ==========================================================\n",
            "# = Solver Results                                         =\n",
            "# ==========================================================\n",
            "# ----------------------------------------------------------\n",
            "#   Problem Information\n",
            "# ----------------------------------------------------------\n",
            "Problem: \n",
            "- Lower bound: -inf\n",
            "  Upper bound: inf\n",
            "  Number of objectives: 1\n",
            "  Number of constraints: 1\n",
            "  Number of variables: 5\n",
            "  Sense: unknown\n",
            "# ----------------------------------------------------------\n",
            "#   Solver Information\n",
            "# ----------------------------------------------------------\n",
            "Solver: \n",
            "- Status: ok\n",
            "  Message: Ipopt 3.12.13\\x3a Optimal Solution Found\n",
            "  Termination condition: optimal\n",
            "  Id: 0\n",
            "  Error rc: 0\n",
            "  Time: 0.012676000595092773\n",
            "# ----------------------------------------------------------\n",
            "#   Solution Information\n",
            "# ----------------------------------------------------------\n",
            "Solution: \n",
            "- number of solutions: 0\n",
            "  number of solutions displayed: 0\n"
          ]
        }
      ]
    },
    {
      "cell_type": "code",
      "source": [
        "for g in instance.g:\n",
        "  print(g, pyo.value(instance.Pg[g]))\n"
      ],
      "metadata": {
        "colab": {
          "base_uri": "https://localhost:8080/"
        },
        "id": "0wz2ClZ2a8re",
        "outputId": "cfded3fa-34c5-4f81-fb56-65d2a27ee973"
      },
      "execution_count": null,
      "outputs": [
        {
          "output_type": "stream",
          "name": "stdout",
          "text": [
            "G1 32.999999670027336\n",
            "G2 90.0\n",
            "G3 68.0\n",
            "G4 76.0\n",
            "G5 32.99999966995517\n"
          ]
        }
      ]
    },
    {
      "cell_type": "code",
      "source": [
        "Total = sum(pyo.value(instance.Pg[g]) for g in instance.g)\n",
        "print(Total)"
      ],
      "metadata": {
        "colab": {
          "base_uri": "https://localhost:8080/"
        },
        "id": "UJruO-msbS1X",
        "outputId": "4d756e19-6acd-42ea-a502-df5a1453ef65"
      },
      "execution_count": null,
      "outputs": [
        {
          "output_type": "stream",
          "name": "stdout",
          "text": [
            "299.99999933998254\n"
          ]
        }
      ]
    },
    {
      "cell_type": "code",
      "source": [
        "plt.figure(figsize=(8,8))\n",
        "Y=[pyo.value(instance.Pg[g]) for g in instance.g]\n",
        "X=[g for g in instance.g]\n",
        "plt.scatter(X, Y, s=40)"
      ],
      "metadata": {
        "colab": {
          "base_uri": "https://localhost:8080/",
          "height": 693
        },
        "id": "1S1Z7dCUbrw5",
        "outputId": "f72ffc6f-78cc-407f-f54b-b190f9959731"
      },
      "execution_count": null,
      "outputs": [
        {
          "output_type": "execute_result",
          "data": {
            "text/plain": [
              "<matplotlib.collections.PathCollection at 0x7e1635939d80>"
            ]
          },
          "metadata": {},
          "execution_count": 17
        },
        {
          "output_type": "display_data",
          "data": {
            "text/plain": [
              "<Figure size 800x800 with 1 Axes>"
            ],
            "image/png": "[encoded data removed]"
          },
          "metadata": {}
        }
      ]
    },
    {
      "cell_type": "code",
      "source": [],
      "metadata": {
        "id": "gyTrMqq9cXV9"
      },
      "execution_count": null,
      "outputs": []
    }
  ]
}